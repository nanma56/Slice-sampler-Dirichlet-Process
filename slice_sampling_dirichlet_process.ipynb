{
 "cells": [
  {
   "cell_type": "markdown",
   "metadata": {},
   "source": [
    "# An implementation of a MDP Slice Sampler from (Walker 2007). \n"
   ]
  },
  {
   "cell_type": "markdown",
   "metadata": {},
   "source": [
    "This work is based on the code from Alvin Shi at MIT. I fixed some bugs and using it for my research"
   ]
  },
  {
   "cell_type": "code",
   "execution_count": 1,
   "metadata": {
    "collapsed": false
   },
   "outputs": [],
   "source": [
    "from __future__ import division\n",
    "import matplotlib.pyplot as plt\n",
    "import numpy as np\n",
    "import pandas as pd\n",
    "import math\n",
    "from sklearn.mixture import GMM\n",
    "import scipy.stats as stats\n",
    "from scipy.stats import gamma, norm, uniform\n",
    "from functools import partial\n",
    "from scipy.special import gamma\n",
    "%matplotlib inline\n",
    "def lambda_to_std(_lambda): \n",
    "    #function for converting lambdas given in the Walker paper for usage in generation of random variates\n",
    "    return 1/(np.sqrt(_lambda))\n",
    "    \n",
    "def count_unique(val, vec): \n",
    "    #simple function to count unique occurrences \n",
    "    counter = 0\n",
    "    for _val in vec:\n",
    "        if val == _val:\n",
    "            counter += 1\n",
    "    return counter \n",
    "\n",
    "\n",
    "def movingaverage(interval, window_size): #plotting auxiliary function \n",
    "    window = np.ones(int(window_size))/float(window_size)\n",
    "    return np.convolve(interval, window, 'same')\n",
    "\n",
    "def runningMeanFast(x, N): #plotting auxiliary function\n",
    "    return np.convolve(x, np.ones((N,))/N)[(N-1):]\n",
    "    \n",
    "np.random.seed(1234)"
   ]
  },
  {
   "cell_type": "markdown",
   "metadata": {},
   "source": [
    "First, we want to generate the test data, Gaussian Mixture Models that Walker uses. Let $$f(y) = \\frac{1}{3} N(y \\mid -4, 1) + \\frac{1}{3} N(y \\mid 0, 1) + \\frac{1}{3} N(y \\mid 8, 1) $$ \n",
    "We can use sci-kit learn's GMM library to simulate the draws as follows:"
   ]
  },
  {
   "cell_type": "code",
   "execution_count": 2,
   "metadata": {
    "collapsed": false
   },
   "outputs": [
    {
     "data": {
      "text/plain": [
       "<matplotlib.text.Text at 0x7facfef9cc50>"
      ]
     },
     "execution_count": 2,
     "metadata": {},
     "output_type": "execute_result"
    },
    {
     "data": {
      "image/png": "[encoded data removed]",
      "text/plain": [
       "<matplotlib.figure.Figure at 0x7facfef9cc10>"
      ]
     },
     "metadata": {},
     "output_type": "display_data"
    }
   ],
   "source": [
    "gmm = GMM(3, n_iter=1)\n",
    "gmm.means_ = np.array([[-4], [0], [8]])\n",
    "gmm.covars_ = np.array([[1], [1], [1]]) ** 2\n",
    "gmm.weights_ = np.array([0.334, 0.333, 0.333])\n",
    "Y = gmm.sample(50)\n",
    "Y = Y.flatten()\n",
    "plt.clf()\n",
    "plt.hist(Y, bins= 35)\n",
    "plt.title('Simulated Distribution of Y')\n",
    "plt.xlabel('Y value')\n",
    "plt.ylabel('Counts')"
   ]
  },
  {
   "cell_type": "markdown",
   "metadata": {},
   "source": [
    "Now, we will walk through a single round of the Splice Sampling. First, we need to initalize values for our latent variables.\n",
    "\n",
    "Let's walk through the initialization of variables for the $\\theta = (\\mu_j, \\sigma^2)$ first. Walker describes the conditional distributions for $\\mu_j$ and $\\lambda_j$ as follows:\n",
    "\n",
    "$$f(\\mu_j \\mid \\ldots) = N\\left( \\frac{\\xi_j \\lambda_j}{m_j \\lambda_j + s},  \\frac{1}{m_j \\lambda_j + s} \\right)$$\n",
    "\n",
    "Walker gives prior values for $\\mu_j \\sim N(0, 1/s)$, and $\\lambda \\sim Ga(\\epsilon, \\epsilon)$. The values for his particular example are $\\epsilon = 0.5$ and $s = 0.1$. We will initalize these below. \n",
    "\n",
    "There is also a prior on $c$ ($\\alpha$ in previous schemes), it is given as $c \\sim Gamma(a = 0.1, b = 0.1)$. We will declare those as well. \n",
    "\n",
    "Finally, using the notation from Escobar and West (1995), which Walker references for inference of $c$, we need to initalize a latent variable $\\nu$ (which is $\\eta$ in their notation) to assist with inference of $c$. Escobar and West don't really reference how $\\nu$ is initalized, but we know it's distributed according to $\\nu \\sim Beta(c+1, n)$, where $n$ is the number of observed values in $Y$, so we will just randomly initalize a value from this distribution.\n",
    "\n",
    "I'll also initalize $c$ as 1. Again, it's possible to alternatively specify it as being drawn from $Gamma(0.1,0.1)$, that alternative is commented out."
   ]
  },
  {
   "cell_type": "code",
   "execution_count": 3,
   "metadata": {
    "collapsed": true
   },
   "outputs": [],
   "source": [
    "epsilon = 0.5\n",
    "s = 0.1\n",
    "s_inv = 1/s\n",
    "s_sqrt = np.sqrt(s_inv) #easier for generation with numpy.random.normal later, since we have to specify the standard deviation\n",
    "a = 0.1 \n",
    "b = 0.1 \n",
    "c = 1\n",
    "#c = np.random.gamma(0.1, 0.1)\n",
    "nu = np.random.beta(c+1, len(Y))"
   ]
  },
  {
   "cell_type": "markdown",
   "metadata": {},
   "source": [
    "Next we initalize our weights $w$, our cluster assiginments (and total number of clusters) $z$, our stick breaking measures $v$, and our initial $\\theta = (\\mu, \\lambda)$. There are several ways to initalize $w$ and $k$. It's not specificed in Walker how they chose these initial values. I'll start with $k = 1$ and $w$ drawn randomly from $Beta(1, c)$. \n",
    "\n",
    "First stick-breaking value $v_0$ is equal to $w_0$.\n",
    "\n"
   ]
  },
  {
   "cell_type": "code",
   "execution_count": 4,
   "metadata": {
    "collapsed": true
   },
   "outputs": [],
   "source": [
    "#initalize first weights\n",
    "w = []\n",
    "w.append(np.random.beta(1, c))\n",
    "\n",
    "v = []\n",
    "v.append(w[0])\n",
    "#initalize first mu (cluster mean)\n",
    "mus = []\n",
    "mus.append(np.random.normal(0, s_sqrt))\n",
    "\n",
    "#initalize first lambda (inverse sigma^2)\n",
    "lambdas = []\n",
    "lambdas.append(np.random.gamma(epsilon,1/epsilon))\n",
    "stds = [] #to keep track of actual sigma generated\n",
    "stds.append(lambda_to_std(lambdas[0]))\n",
    "z = np.zeros(len(Y)) #cluster assignments\n",
    "u = np.zeros(len(Y))\n",
    "active_ks = []\n",
    "total_ks = []\n",
    "total_cs = []"
   ]
  },
  {
   "cell_type": "markdown",
   "metadata": {},
   "source": [
    "One particular problem I had is with the parameterization of $Gamma$ in the Walker paper. \n",
    "\n",
    "The Gamma distribution can be parameterized either with a shape parameter $k$ and a scale parameter $\\theta$, or alternatively with a shape parameter $\\alpha = k$ and a rate parameter $\\beta = 1 / \\theta$. \n",
    "\n",
    "In Bayesian settings (according to wikipedia), the shape and rate $(\\alpha, \\beta)$ parameterization is most often used. However, Escobar and West (1995) use  $(k, \\theta)$, shape and scale, instead.  \n",
    "\n",
    "For reasons that will be clear in a few minutes, I'll assume that Walker uses the $Gamma(\\alpha, \\beta)$ parameterization, and Escobar and West uses $Gamma(k, \\theta)$. \n",
    "\n",
    "Note that numpy.random.gamma uses the $k, \\theta$ notation, so i'll be inverting most of the 2nd parameters in Walker."
   ]
  },
  {
   "cell_type": "markdown",
   "metadata": {},
   "source": [
    "## One iteration of slice sampling"
   ]
  },
  {
   "cell_type": "markdown",
   "metadata": {},
   "source": [
    "Let's do the first step of slice sampling. We first want to initalize our auxiliary variable $u$. Recall the step for generating this is given below:\n",
    "\n",
    "For $i=1 \\dots n$, pick $u_i \\sim U(0,w_{k_i})$, choose $u^* = min\\{u_1 \\dots u_n\\}$\n",
    "\n",
    "Where $n$ is the number of observations in $Y$ "
   ]
  },
  {
   "cell_type": "code",
   "execution_count": 5,
   "metadata": {
    "collapsed": false
   },
   "outputs": [
    {
     "name": "stdout",
     "output_type": "stream",
     "text": [
      "0.00613155165067\n"
     ]
    },
    {
     "data": {
      "image/png": "[encoded data removed]",
      "text/plain": [
       "<matplotlib.figure.Figure at 0x7facfef9ce50>"
      ]
     },
     "metadata": {},
     "output_type": "display_data"
    }
   ],
   "source": [
    "    u = np.zeros(len(Y))\n",
    "    for idx, val in enumerate(Y):\n",
    "        cluster_label = int(z[idx]) #vector z holds all the current cluster assignments indexed 0...k-1\n",
    "        u[idx] = np.random.uniform(0, w[cluster_label]) #we can fetch the current w_k from the w vector, with same indexing scheme as k\n",
    "    #min u \n",
    "    u_star = np.min(u)\n",
    "    plt.hist(u, bins=25)\n",
    "    plt.title('Distribution of u')\n",
    "    print u_star"
   ]
  },
  {
   "cell_type": "markdown",
   "metadata": {},
   "source": [
    "Now let's do the next step, which is: \n",
    "\n",
    "Create new components through stick breaking until we have $k^*$\n",
    "\n",
    "To do this, we can re-formulate the equation:\n",
    "$$\\sum_{j=1}^{k^*} w_j > 1-u^*$$\n",
    "\n",
    "We can re-arrange to derive, $\\beta^*$, which is $1 - \\sum_{j=1}^{k^*} w_j$. Now we see that the above condition is now:\n",
    "\n",
    "$$u^* > \\sum_{j=1}^{k^*} w_j$$\n",
    "$$u^* > \\beta^*$$\n",
    "So while this above expression is not true, we need to generate more components $k$ until we reach $k^*$.\n",
    "\n",
    "For each new $k$ that is generated, we can draw the corresponding $\\theta = (u, \\sigma^2)$ values straight from the priors specified earlier\n",
    "\n",
    "The stick-breaking lengths corresponding to each new segment is  generated as \n",
    "\n",
    "$$v_{k} = Beta(1, c)$$\n"
   ]
  },
  {
   "cell_type": "code",
   "execution_count": 6,
   "metadata": {
    "collapsed": false
   },
   "outputs": [],
   "source": [
    "    beta_star = 1 - np.sum(w)\n",
    "\n",
    "    while (beta_star >= u_star): #generate a new k while this condition is true\n",
    "        _vk = np.random.beta(1, c)\n",
    "        beta_k = _vk * beta_star\n",
    "        \n",
    "        #append beta_k to the weights\n",
    "        w.append(beta_k)\n",
    "            \n",
    "        #append _vk to v\n",
    "        v.append(_vk)\n",
    "        \n",
    "        #append new mu to mus \n",
    "        mus.append(np.random.normal(0, s_sqrt)) #draw from our prior N(0, 1/s)\n",
    "        \n",
    "        #append new lambda to lambda\n",
    "        new_lambd = np.random.gamma(epsilon, 1/epsilon) #draw from Gamma(epsilon, epsilon)\n",
    "        lambdas.append(new_lambd)\n",
    "\n",
    "        \n",
    "        #finally update beta_star\n",
    "        beta_star = beta_star*(1 -_vk)"
   ]
  },
  {
   "cell_type": "markdown",
   "metadata": {},
   "source": [
    "We can check that $\\beta^*$ is now below $u^*$. \n",
    "\n",
    "Additionally, we can inspect the number of instantiated components"
   ]
  },
  {
   "cell_type": "code",
   "execution_count": 7,
   "metadata": {
    "collapsed": false
   },
   "outputs": [
    {
     "name": "stdout",
     "output_type": "stream",
     "text": [
      "Beta star is 0.0028603334611\n",
      "u star is 0.00613155165067\n",
      "Number of instianted components is  4\n",
      "sample means for each new cluster\n",
      "[0.920872203636786, 1.7915368517115182, 4.29373193634983, -2.545107706082487]\n",
      "lambdas for each new cluster\n",
      "[1.2862251963811038, 0.26735463409442745, 0.45232713086903725, 0.058800671435076536]\n",
      "Sigma (translated lambda)\n",
      "[0.88174193000543599, 1.9339985400609325, 1.4868723354578228, 4.1239069489065674]\n"
     ]
    }
   ],
   "source": [
    "print \"Beta star is\", beta_star\n",
    "print \"u star is\" , u_star\n",
    "print \"Number of instianted components is \" , len(w)\n",
    "print \"sample means for each new cluster\"\n",
    "print mus\n",
    "print \"lambdas for each new cluster\"\n",
    "print lambdas\n",
    "#convert lambdas to sigmas\n",
    "sigma = [lambda_to_std(x) for x in lambdas]\n",
    "print \"Sigma (translated lambda)\"\n",
    "print sigma"
   ]
  },
  {
   "cell_type": "markdown",
   "metadata": {},
   "source": [
    "Now that we have the optimal number of potential components $k^*$, we can start assigning our observed points in $Y$ to these clusters. \n",
    "\n",
    "This is given by the following equation: \n",
    "\n",
    "$$ p(\\delta_i  = k| y_i, u_i, w, \\theta) \\propto  1{\\{k:w_k > u^* \\}}P(y_i|\\theta_k)$$\n",
    "\n",
    "It's perhaps easier to express this as:\n",
    "\n",
    "$$ p(\\delta_i  = k| y_i, u_i, w, \\theta) \\propto \\begin{cases} N(y_{i} \\mid \\theta_k) & \\text{if } w_k \\geq u_{i} \\\\ 0 & \\text{otherwise} \\end{cases}$$\n",
    "\n",
    "We'll use the scipy normal distribution to generate the pdf for each $Y_{i}$ for each cluster. We can then renormalize these weights and draw from this discrete distribution use scipy custom r.v. object. These assignments will form the new $z$"
   ]
  },
  {
   "cell_type": "code",
   "execution_count": 8,
   "metadata": {
    "collapsed": false
   },
   "outputs": [
    {
     "name": "stdout",
     "output_type": "stream",
     "text": [
      "[ 0.  0.  0.  2.  2.  0.  1.  2.  2.  0.  0.  0.  2.  2.  0.  0.  0.  0.\n",
      "  2.  0.  0.  0.  1.  0.  0.  0.  0.  2.  0.  0.  2.  1.  0.  0.  0.  0.\n",
      "  0.  0.  0.  0.  0.  0.  0.  0.  0.  0.  0.  0.  0.  0.]\n"
     ]
    }
   ],
   "source": [
    "    assert len(w) == len(mus)\n",
    "    assert len(w) == len(lambdas)\n",
    "    \n",
    "    #now we get the cluster assignments z for each observation\n",
    "    for y_idx , y_val in enumerate(Y):\n",
    "        z_probs = np.zeros(len(w)) #initalize placeholder for new zs\n",
    "        for cluster_idx, mu in enumerate(mus):\n",
    "            if w[cluster_idx] > u[y_idx]:\n",
    "                z_probs[cluster_idx] = norm.pdf(y_val, loc = mu, scale = lambda_to_std(lambdas[cluster_idx]))\n",
    "            else:\n",
    "                z_probs[cluster_idx] = 0\n",
    "        #sample cluster assignments\n",
    "        norm_z_probs = z_probs / np.sum(z_probs) #normalize and feed into a discrete r.v.\n",
    "        z_sampler = stats.rv_discrete(name = \"z_sampler\", values = (np.arange(len(z_probs)), norm_z_probs))\n",
    "        z_assignment = z_sampler.rvs()\n",
    "        z[y_idx] = z_assignment #grab z_assignment\n",
    "        #print \"%i\\t%0.03f\\t%0.03f\\t%0.03f\\t%i\"%(y_idx, y_val, mu_)\n",
    "    \n",
    "    z_ints = [int(x) for x in z] #make z ints for easier use in future \n",
    "    print z"
   ]
  },
  {
   "cell_type": "markdown",
   "metadata": {},
   "source": [
    "We can see how the cluster assignments turned out. We don't expect these to be great. "
   ]
  },
  {
   "cell_type": "code",
   "execution_count": 9,
   "metadata": {
    "collapsed": false
   },
   "outputs": [
    {
     "data": {
      "text/plain": [
       "<matplotlib.text.Text at 0x7facd53e1090>"
      ]
     },
     "execution_count": 9,
     "metadata": {},
     "output_type": "execute_result"
    },
    {
     "name": "stderr",
     "output_type": "stream",
     "text": [
      "/usr/lib/pymodules/python2.7/matplotlib/collections.py:548: FutureWarning: elementwise comparison failed; returning scalar instead, but in the future will perform elementwise comparison\n",
      "  if self._edgecolors == 'face':\n"
     ]
    },
    {
     "data": {
      "image/png": "[encoded data removed]",
      "text/plain": [
       "<matplotlib.figure.Figure at 0x7facd54f3ed0>"
      ]
     },
     "metadata": {},
     "output_type": "display_data"
    }
   ],
   "source": [
    "plt.scatter(z, Y)\n",
    "plt.title('Cluster assignment vs Y value')\n",
    "plt.xlabel('Cluster assignment')\n",
    "plt.ylabel('Y value')"
   ]
  },
  {
   "cell_type": "markdown",
   "metadata": {},
   "source": [
    "As we observe here, we only used 4 of the 12 total possible $k^*$. This is perhaps a downside of $Y$, in the sense that our \"dynamic truncation\" is potentially causing us to waste computational resources to sample $w_k$ and calculate $p(\\delta_{i} \\mid \\ldots)$ for a large number of clusters that we may not necessarily care about."
   ]
  },
  {
   "cell_type": "markdown",
   "metadata": {},
   "source": [
    "Next, let's update our $\\theta$. This involves updating $\\mu$ and $\\lambda$. We know that the updates (from Walker section 4) to be:\n",
    "\n",
    "$$f(\\mu_j \\mid \\ldots) = N\\left( \\frac{\\xi_j \\lambda_j}{m_j \\lambda_j + s},  \\frac{1}{m_j \\lambda_j + s} \\right)$$\n",
    "Where,\n",
    "$$\\xi_j = \\sum_{k_{i} = j} y_{i}$$\n",
    "$$m_j = \\sum_{k_{i} = j} 1$$\n",
    "\n",
    "The updates for $\\lambda_j$ is as follows:\n",
    "$$f(\\lambda_j \\mid \\ldots) = Gamma(\\epsilon + m_j/2 , \\epsilon + d_j/2)$$\n",
    "where,\n",
    "$$d_j = \\sum_{k_{i} = j } (y_{i} - \\theta_j)^2$$\n",
    "\n",
    "I'm unsure why Walker used $\\theta_j$ instead of $\\mu_j$ here...as I'm unsure of how to incorporate $\\theta = (\\mu, \\lambda)$ information. "
   ]
  },
  {
   "cell_type": "code",
   "execution_count": 10,
   "metadata": {
    "collapsed": true
   },
   "outputs": [],
   "source": [
    "    z_ints = [int(x) for x in z] #make z ints for easier use in future \n",
    "    \n",
    "    #perform necessary updates for means and lambdas for each cluster \n",
    "    new_mus = []\n",
    "    new_lambdas = []\n",
    "    new_z = np.zeros(len(Y))\n",
    "    active_cluster = 0\n",
    "    count_dict = {}\n",
    "    \n",
    "    for cluster_idx in range(len(w)):\n",
    "        #update means\n",
    "        cur_lambda = lambdas[cluster_idx]    \n",
    "        eta = 0\n",
    "        m = 0\n",
    "        y_k = []\n",
    "        for y_idx, z_val in enumerate(z_ints):\n",
    "            if z_val == cluster_idx:\n",
    "                m += 1\n",
    "                eta += Y[y_idx]\n",
    "                y_k.append(Y[y_idx])\n",
    "                new_z[y_idx] = active_cluster\n",
    "        \n",
    "        if m == 0: #if un-utilized cluster, skip and don't add weights/means\n",
    "            continue\n",
    "        else:\n",
    "            count_dict[active_cluster] = m\n",
    "            active_cluster += 1        \n",
    "            _mean = (eta * cur_lambda)/(m * cur_lambda + s)\n",
    "            _variance = 1 / (m * cur_lambda + s)\n",
    "            new_mu = np.random.normal(_mean, np.sqrt(_variance)) #draw new mu from N()\n",
    "            #mus[cluster_idx] = new_mu\n",
    "            new_mus.append(new_mu)\n",
    "            #update lambda\n",
    "            d = 0\n",
    "            for val in y_k:\n",
    "                d += (val - new_mu) ** 2 #calculate d_j\n",
    "            \n",
    "            _alpha = epsilon + m/2\n",
    "            _beta = epsilon + d/2\n",
    "            new_lambda = np.random.gamma(_alpha, 1/_beta) #draw new lambda from Gamma\n",
    "            #lambdas[cluster_idx] = new_lambda\n",
    "            #print \"added at %i\"%(cluster_idx)\n",
    "            new_lambdas.append(new_lambda)\n",
    "            #stds.append(lambda_to_std(new_lambda))"
   ]
  },
  {
   "cell_type": "code",
   "execution_count": 11,
   "metadata": {
    "collapsed": false
   },
   "outputs": [
    {
     "name": "stdout",
     "output_type": "stream",
     "text": [
      "[0.7266178304840947, -2.6714341745650305, 8.261895678786171]\n",
      "[0.042254074667477354, 0.49656240056638856, 0.3199645899415874]\n",
      "[4.8648079742598691, 1.4191002744385779, 1.7678647684766686]\n"
     ]
    }
   ],
   "source": [
    "#inspect the new valeus\n",
    "print new_mus\n",
    "print new_lambdas\n",
    "print [lambda_to_std(x) for x in new_lambdas]"
   ]
  },
  {
   "cell_type": "markdown",
   "metadata": {},
   "source": [
    "Now let's update our $v_{k}$ and $w_{k}$ vectors. We know that \n",
    "\n",
    "$$v_k \\mid c, \\delta \\sim Beta(1+n_k, c + \\sum_{l=k+1}^{k^*} n_l)$$\n",
    "\n",
    "and\n",
    "\n",
    "$$w_k = v_k \\prod \\limits_{l=1}^{k-1}(1-v_l)$$"
   ]
  },
  {
   "cell_type": "code",
   "execution_count": 12,
   "metadata": {
    "collapsed": false,
    "scrolled": true
   },
   "outputs": [
    {
     "name": "stdout",
     "output_type": "stream",
     "text": [
      "New weights are\n",
      "[0.7821429860579908, 0.05397717942939738, 0.1269091451554083]\n",
      "They sum up to\n",
      "0.963029310643\n"
     ]
    }
   ],
   "source": [
    "    k = active_cluster \n",
    "    vks = []\n",
    "    #print count_dict\n",
    "    for cluster_idx in range(k):\n",
    "        n_k = count_dict[cluster_idx]\n",
    "        n_j = 0\n",
    "        #print range(cluster_idx + 1, k )\n",
    "        for i in range(cluster_idx+1, k):\n",
    "            n_j += count_dict[i]\n",
    "        vks.append(np.random.beta(1 + n_k, c + n_j))\n",
    "        \n",
    "    #update weights w_k\n",
    "    new_w = []\n",
    "    old_vks = []\n",
    "    for cluster_idx in range(k):\n",
    "        if cluster_idx == 0:\n",
    "            new_w.append(vks[cluster_idx])    \n",
    "            old_vks.append(1-vks[cluster_idx])\n",
    "        else:\n",
    "            #print cluster_idx\n",
    "            vj = 1 \n",
    "            for i in range(cluster_idx):\n",
    "                #print i\n",
    "                #print old_vks\n",
    "                vj *= old_vks[i]\n",
    "            new_w.append(vks[cluster_idx] * vj)\n",
    "            old_vks.append(1-vks[cluster_idx]) \n",
    "    print \"New weights are\"\n",
    "    print new_w\n",
    "    print \"They sum up to\"\n",
    "    print sum(new_w)"
   ]
  },
  {
   "cell_type": "markdown",
   "metadata": {},
   "source": [
    "Finally we update $c$. I utilize the derivation from Escobar and West (1995) that Walker references (http://www.cs.berkeley.edu/~jordan/courses/281B-spring04/readings/escobar-west.pdf). This is equations 13 and 14 in their paper. Walker's updates for alpha wasn't terribly clear; however, their implementation is also included, but commented out. \n",
    "\n",
    "The full derivation is in that paper. For our purposes, we introduce a new latent variable $\\nu \\sim Beta(c + 1, n)$ that assists with updates on $c$. This $\\nu$ is $\\eta$ in Escobar and West. We derive equation 13 from Escobar and West:\n",
    "\n",
    "$$p(c \\mid \\nu, k ) \\sim \\pi_{n} G(a + k, b - \\log(\\eta)) + (1 - \\pi_{n}) G(a+ k - 1, b - \\log(\\eta)) $$\n",
    "\n",
    "where \n",
    "$$\\frac{\\pi_n}{1-\\pi_n} = \\frac{a + k -1}{n (b - \\log(\\eta))}$$\n",
    "\n",
    "Gamma here is parameterized by $(k, \\theta)$.\n",
    "\n",
    "$\\nu$ is updated as \n",
    "\n",
    "$$p(\\nu \\mid \\ldots) \\sim Beta(c + 1, n)$$"
   ]
  },
  {
   "cell_type": "code",
   "execution_count": 13,
   "metadata": {
    "collapsed": false
   },
   "outputs": [
    {
     "name": "stdout",
     "output_type": "stream",
     "text": [
      "New value of c is  3.01601462238\n"
     ]
    }
   ],
   "source": [
    "    new_nu = np.random.beta(c + 1, len(Y)) #update nu    \n",
    "    \n",
    "    pi_n_ratio = (a + k - 1) / (len(Y) * (b - np.log10(new_nu))) #calculate ratios for c update\n",
    "    pi_1 = pi_n_ratio / (1 + pi_n_ratio)\n",
    "    pi_2 = 1 - pi_1\n",
    "    #new_c = pi_1 * np.random.gamma(a+k, b - np.log10(new_nu)) + pi_2 * np.random.gamma(a+k-1, 1/ b-np.log10(new_nu))\n",
    "    new_c = pi_1 * np.random.gamma(a+k, b - np.log10(new_nu)) + pi_2 * np.random.gamma(a+k-1, b-np.log10(new_nu))\n",
    "    #new_c = ((c**k )* gamma(c) * np.random.gamma(a, b)) / (gamma(c + len(Y)))   #alternative update scheme from Walker  \n",
    "    \n",
    "    #store results\n",
    "    active_ks.append(k)\n",
    "    total_ks.append(len(w))\n",
    "    total_cs.append(new_c)\n",
    "    \n",
    "    #end of gibbs cycle, update all the variables for next round\n",
    "    mus = new_mus\n",
    "    lambdas = new_lambdas\n",
    "    z = new_z \n",
    "    c = new_c\n",
    "    nu = new_nu\n",
    "    v = vks \n",
    "    w = new_w\n",
    "    print \"New value of c is \", c\n"
   ]
  },
  {
   "cell_type": "markdown",
   "metadata": {},
   "source": [
    "# Running Slice Sampler"
   ]
  },
  {
   "cell_type": "markdown",
   "metadata": {},
   "source": [
    "Now that we've completed a successful Gibbs cycle, we can run it for a short amount of time (100 or so iterations) to see what happens to all our values."
   ]
  },
  {
   "cell_type": "code",
   "execution_count": 14,
   "metadata": {
    "collapsed": false
   },
   "outputs": [
    {
     "name": "stdout",
     "output_type": "stream",
     "text": [
      "On iteration 50\tBeta_star is 0.169243\tU-star is 0.000501\tActive ks 8\tAlpha is 4.333617\n",
      "\n",
      "[0.033428126702104835, 0.19229405478845227, 0.23429970278404247, 0.16502893538826408, 0.07280242230249251, 0.01600347824598163, 0.05267024436571244, 0.06423037668022588]\n"
     ]
    }
   ],
   "source": [
    "for cur_iter in range(99):\n",
    "    #print \"Starting iter %i\"%(cur_iter)\n",
    "    u = np.zeros(len(Y))\n",
    "    #grab u \n",
    "    for idx, val in enumerate(Y):\n",
    "        cluster_label = int(z[idx])\n",
    "        u[idx] = np.random.uniform(0, w[cluster_label])\n",
    "    \n",
    "    #min u \n",
    "    u_star = np.min(u)\n",
    "    \n",
    "    #find k_star and initalize components until we have enough\n",
    "    beta_star = 1 - np.sum(w)\n",
    "    if cur_iter > 1 and cur_iter % 50 == 0:\n",
    "        print \"On iteration %i\\tBeta_star is %0.06f\\tU-star is %0.06f\\tActive ks %i\\tAlpha is %0.06f\\n\"%(cur_iter, beta_star, u_star, active_ks[-1], total_cs[-1])\n",
    "        print w\n",
    "    while (beta_star >= u_star):\n",
    "        _vk = np.random.beta(1, c)\n",
    "        beta_k = _vk * beta_star\n",
    "        \n",
    "        #append beta_k to the weights\n",
    "        w.append(beta_k)\n",
    "            \n",
    "        #append _vk to v\n",
    "        v.append(_vk)\n",
    "        \n",
    "        #append new mu to mus \n",
    "        mus.append(np.random.normal(0, s_sqrt))\n",
    "        \n",
    "        #append new lambda to lambda\n",
    "        new_lambd = np.random.gamma(epsilon, 1/epsilon)\n",
    "        lambdas.append(new_lambd)\n",
    "\n",
    "        \n",
    "        #finally update beta_star\n",
    "        beta_star = beta_star*(1 -_vk)\n",
    "    \n",
    "    assert len(w) == len(mus)\n",
    "    assert len(w) == len(lambdas)\n",
    "    \n",
    "    #now we get the cluster assignments z for each observation\n",
    "    for y_idx , y_val in enumerate(Y):\n",
    "        z_probs = np.zeros(len(w))\n",
    "        for cluster_idx, mu in enumerate(mus):\n",
    "            if w[cluster_idx] > u[y_idx]:\n",
    "                z_probs[cluster_idx] = norm.pdf(y_val, loc = mu, scale = lambda_to_std(lambdas[cluster_idx]))\n",
    "            else:\n",
    "                z_probs[cluster_idx] = 0\n",
    "        #sample cluster assignments\n",
    "        norm_z_probs = z_probs / np.sum(z_probs)\n",
    "        z_sampler = stats.rv_discrete(name = \"z_sampler\", values = (np.arange(len(z_probs)), norm_z_probs))\n",
    "        z_assignment = z_sampler.rvs()\n",
    "        z[y_idx] = z_assignment\n",
    "        #print \"%i\\t%0.03f\\t%0.03f\\t%0.03f\\t%i\"%(y_idx, y_val, mu_)\n",
    "    \n",
    "    z_ints = [int(x) for x in z] #make z ints for easier use in future \n",
    "    \n",
    "    #perform necessary updates for means and lambdas for each cluster \n",
    "    new_mus = []\n",
    "    new_lambdas = []\n",
    "    new_z = np.zeros(len(Y))\n",
    "    active_cluster = 0\n",
    "    count_dict = {}\n",
    "    \n",
    "    for cluster_idx in range(len(w)):\n",
    "        #update means\n",
    "        cur_lambda = lambdas[cluster_idx]    \n",
    "        eta = 0\n",
    "        m = 0\n",
    "        y_k = []\n",
    "        for y_idx, z_val in enumerate(z_ints):\n",
    "            if z_val == cluster_idx:\n",
    "                m += 1\n",
    "                eta += Y[y_idx]\n",
    "                y_k.append(Y[y_idx])\n",
    "                new_z[y_idx] = active_cluster\n",
    "        \n",
    "        if m == 0:\n",
    "            continue\n",
    "        else:\n",
    "            count_dict[active_cluster] = m\n",
    "            active_cluster += 1        \n",
    "            _mean = (eta * cur_lambda)/(m * cur_lambda + s)\n",
    "            _variance = 1 / (m * cur_lambda + s)\n",
    "            new_mu = np.random.normal(_mean, np.sqrt(_variance))\n",
    "            #mus[cluster_idx] = new_mu\n",
    "            new_mus.append(new_mu)\n",
    "            #update lambda\n",
    "            d = 0\n",
    "            for val in y_k:\n",
    "                d += (val - new_mu) ** 2\n",
    "            \n",
    "            _alpha = epsilon + m/2\n",
    "            _beta = epsilon + d/2\n",
    "            new_lambda = np.random.gamma(_alpha, 1/_beta)\n",
    "            #lambdas[cluster_idx] = new_lambda\n",
    "            #print \"added at %i\"%(cluster_idx)\n",
    "            new_lambdas.append(new_lambda)\n",
    "            stds.append(lambda_to_std(new_lambda))\n",
    "            \n",
    "    #update the stick breaking lengths v_k \n",
    "    k = active_cluster \n",
    "    vks = []\n",
    "    #print count_dict\n",
    "    for cluster_idx in range(k):\n",
    "        n_k = count_dict[cluster_idx]\n",
    "        n_j = 0\n",
    "        #print range(cluster_idx + 1, k )\n",
    "        for i in range(cluster_idx+1, k):\n",
    "            n_j += count_dict[i]\n",
    "        vks.append(np.random.beta(1 + n_k, c + n_j))\n",
    "        \n",
    "    #update weights w_k\n",
    "    new_w = []\n",
    "    old_vks = []\n",
    "    for cluster_idx in range(k):\n",
    "        if cluster_idx == 0:\n",
    "            new_w.append(vks[cluster_idx])    \n",
    "            old_vks.append(1-vks[cluster_idx])\n",
    "        else:\n",
    "            #print cluster_idx\n",
    "            vj = 1 \n",
    "            for i in range(cluster_idx):\n",
    "                #print i\n",
    "                #print old_vks\n",
    "                vj *= old_vks[i]\n",
    "            new_w.append(vks[cluster_idx] * vj)\n",
    "            old_vks.append(1-vks[cluster_idx])   \n",
    "    \n",
    "    #lastly, update c (alpha) and nu (Escobar & West 1995, section 6)\n",
    "    #update c\n",
    "    new_nu = np.random.beta(c + 1, len(Y))    \n",
    "    \n",
    "    pi_n_ratio = (a + k - 1) / (len(Y) * (b - np.log10(new_nu)))\n",
    "    pi_1 = pi_n_ratio / (1 + pi_n_ratio)\n",
    "    pi_2 = 1 - pi_1\n",
    "    #new_c = pi_1 * np.random.gamma(a+k, b - np.log10(new_nu)) + pi_2 * np.random.gamma(a+k-1, b-np.log10(new_nu))\n",
    "    new_c = pi_1 * np.random.gamma(a+k, b - np.log10(new_nu)) + pi_2 * np.random.gamma(a+k-1, b-np.log10(new_nu))\n",
    "    #new_c = np.random.gamma(a+k, b - np.log10(new_nu))\n",
    "    #new_c = ((c**k )* gamma(c) * np.random.gamma(0.1,10)) / (gamma(c + len(Y)))      \n",
    "    \n",
    "    #store results\n",
    "    active_ks.append(k)\n",
    "    total_ks.append(len(w))\n",
    "    total_cs.append(new_c)\n",
    "    \n",
    "    #end of gibbs cycle, update all the variables for next round\n",
    "    mus = new_mus\n",
    "    lambdas = new_lambdas\n",
    "    z = new_z \n",
    "    c = new_c\n",
    "    nu = new_nu\n",
    "    v = vks \n",
    "    w = new_w"
   ]
  },
  {
   "cell_type": "markdown",
   "metadata": {},
   "source": [
    "We can plot our current sampling iteration and how our $k$ is changing with MCMC iterations"
   ]
  },
  {
   "cell_type": "code",
   "execution_count": 15,
   "metadata": {
    "collapsed": false
   },
   "outputs": [
    {
     "data": {
      "image/png": "[encoded data removed]",
      "text/plain": [
       "<matplotlib.figure.Figure at 0x7facd5290e10>"
      ]
     },
     "metadata": {},
     "output_type": "display_data"
    }
   ],
   "source": [
    "plt.clf()\n",
    "plt.scatter(z , Y)\n",
    "plt.title('Representative Clustering')\n",
    "plt.xlabel('Cluster Index')\n",
    "plt.ylabel('Y value')\n",
    "plt.savefig('rep_clustv2.png',dpi=450)\n",
    "\n"
   ]
  },
  {
   "cell_type": "code",
   "execution_count": 16,
   "metadata": {
    "collapsed": false
   },
   "outputs": [
    {
     "data": {
      "text/plain": [
       "<matplotlib.text.Text at 0x7facd5217950>"
      ]
     },
     "execution_count": 16,
     "metadata": {},
     "output_type": "execute_result"
    },
    {
     "data": {
      "image/png": "[encoded data removed]",
      "text/plain": [
       "<matplotlib.figure.Figure at 0x7facd53aec50>"
      ]
     },
     "metadata": {},
     "output_type": "display_data"
    }
   ],
   "source": [
    "plt.clf()\n",
    "plt.hist(Y, bins= 35)\n",
    "plt.title('Simulated Distribution of Y')\n",
    "plt.xlabel('Y value')\n",
    "plt.ylabel('Counts')"
   ]
  },
  {
   "cell_type": "markdown",
   "metadata": {},
   "source": [
    "Looks like our sampler is getting the left cluster...confused. The right-most cluster is being resolved well. Or I have a bug somewhere. Who knows?\n"
   ]
  },
  {
   "cell_type": "code",
   "execution_count": 17,
   "metadata": {
    "collapsed": false
   },
   "outputs": [
    {
     "data": {
      "image/png": "[encoded data removed]",
      "text/plain": [
       "<matplotlib.figure.Figure at 0x7facd5542210>"
      ]
     },
     "metadata": {},
     "output_type": "display_data"
    }
   ],
   "source": [
    "\n",
    "\n",
    "plt.clf()\n",
    "#plt.scatter(np.arange(len(active_ks)), active_ks)\n",
    "\n",
    "plt.plot(np.arange(len(active_ks)), movingaverage(total_ks, 10), 'b-', label='Moving average total k')\n",
    "plt.plot(np.arange(len(active_ks)), movingaverage(active_ks, 10), 'r-', label='Moving average realized k')\n",
    "plt.xlabel('Iterations')\n",
    "plt.ylabel('Clusters')\n",
    "plt.xlim((0,100))\n",
    "plt.legend(prop={'size':8})\n",
    "plt.title('Moving average of clusters vs. Gibbs Iterations')\n",
    "plt.savefig('var_c4.png', dpi=500)\n"
   ]
  },
  {
   "cell_type": "markdown",
   "metadata": {},
   "source": [
    "Now let's run this some more and see what happens.\n"
   ]
  },
  {
   "cell_type": "code",
   "execution_count": 18,
   "metadata": {
    "collapsed": false,
    "scrolled": true
   },
   "outputs": [
    {
     "name": "stdout",
     "output_type": "stream",
     "text": [
      "On iteration 50\tBeta_star is 0.043600\tU-star is 0.000417\tActive ks 14\tAlpha is 17.434319\n",
      "\n",
      "[0.3614879836200339, 0.05194793698191956, 0.08246089286311464, 0.20525331076393166, 0.008643307166680905, 0.03834284314103191, 0.030463169916479908, 0.0015437306541452739, 0.1013207599584383, 0.004313326720361994, 0.03498110557313655, 0.013381811855715511, 0.010697864875247279, 0.011562050255046646]\n",
      "On iteration 100\tBeta_star is 0.192436\tU-star is 0.000477\tActive ks 11\tAlpha is 7.634897\n",
      "\n",
      "[0.33107117725958124, 0.08882575469537378, 0.08321442620610082, 0.03640758576936084, 0.019182341064948347, 0.07542541440666893, 0.04088899038313724, 0.012166604429914699, 0.019133541433833383, 0.04619895023191165, 0.05504953588276193]\n",
      "On iteration 150\tBeta_star is 0.066215\tU-star is 0.001342\tActive ks 9\tAlpha is 9.484994\n",
      "\n",
      "[0.2597128849201762, 0.20133356075347292, 0.15490381075710105, 0.1696318675514633, 0.06983093784661341, 0.021530412813650705, 0.014013916920033244, 0.028626556041653328, 0.014201105053031545]\n",
      "On iteration 200\tBeta_star is 0.085109\tU-star is 0.002010\tActive ks 12\tAlpha is 11.265092\n",
      "\n",
      "[0.42296548073370943, 0.1554646233296453, 0.05396715254148444, 0.01799580594867668, 0.006875098483734634, 0.07514557242561437, 0.044030578036296134, 0.023115205594236674, 0.035539837336746385, 0.019270790771508093, 0.01470715630118927, 0.04581348104580557]\n",
      "On iteration 250\tBeta_star is 0.042998\tU-star is 0.001025\tActive ks 17\tAlpha is 9.480314\n",
      "\n",
      "[0.2509989856512074, 0.15721504290105423, 0.01696105736117898, 0.04779285827609512, 0.07640502922258059, 0.1125204371924237, 0.057118352168259584, 0.009666679069024272, 0.05506461044777005, 0.021599776443526023, 0.022765979741511906, 0.0036910946498388292, 0.02083060235353492, 0.03409114679977352, 0.014767092374840482, 0.03676203198593831, 0.01875144000697427]\n",
      "On iteration 300\tBeta_star is 0.080133\tU-star is 0.002269\tActive ks 9\tAlpha is 9.365273\n",
      "\n",
      "[0.23399306623323393, 0.1828955078945142, 0.2645339131212084, 0.03431639022391649, 0.04690584679994337, 0.07896769534478554, 0.037464641394535904, 0.020118085891769492, 0.020671998128402664]\n",
      "On iteration 350\tBeta_star is 0.125247\tU-star is 0.000558\tActive ks 10\tAlpha is 6.941425\n",
      "\n",
      "[0.23515932981423762, 0.205612780230514, 0.09216908704644033, 0.1584865966512496, 0.05162277213833098, 0.07763341454358115, 0.014332723407700424, 0.015517441873727392, 0.009416453137213905, 0.0148024397016524]\n",
      "On iteration 400\tBeta_star is 0.103923\tU-star is 0.001800\tActive ks 8\tAlpha is 4.611681\n",
      "\n",
      "[0.24088175306930684, 0.3049002417788159, 0.12508316892626786, 0.01714443065524008, 0.06750432308822382, 0.013350033904647693, 0.06747144731787498, 0.05974183113247953]\n",
      "On iteration 450\tBeta_star is 0.136366\tU-star is 0.000416\tActive ks 11\tAlpha is 4.418906\n",
      "\n",
      "[0.203083992273989, 0.19178898104693343, 0.13658662149234782, 0.058363090663089603, 0.08100520280169994, 0.0985785491552889, 0.01137223559608491, 0.002711646744574192, 0.034097018450021555, 0.028883309644821307, 0.017163191238628646]\n",
      "On iteration 500\tBeta_star is 0.063459\tU-star is 0.002795\tActive ks 10\tAlpha is 9.771532\n",
      "\n",
      "[0.24431340928203274, 0.05993515963070702, 0.04973512605658897, 0.10862723139393271, 0.08201427498139911, 0.24815433942418566, 0.023868604272452788, 0.03696658182765994, 0.040583488380103235, 0.042343200884123834]\n",
      "On iteration 550\tBeta_star is 0.148198\tU-star is 0.001091\tActive ks 11\tAlpha is 10.448066\n",
      "\n",
      "[0.27524479314934736, 0.21411548349901197, 0.033805809584703514, 0.0658370064968978, 0.03210329530059067, 0.07473828522853103, 0.067109400586556, 0.0042574114630319244, 0.011877338689791675, 0.0020218973460198846, 0.07069168929519505]\n",
      "On iteration 600\tBeta_star is 0.043510\tU-star is 0.000349\tActive ks 12\tAlpha is 11.213643\n",
      "\n",
      "[0.20800068781292022, 0.23195013186376978, 0.028018307351130776, 0.10112665747497536, 0.05466046298273917, 0.06799739766837216, 0.11921407542078608, 0.025901686373716124, 0.020369282375694155, 0.05095839114838154, 0.03139874320031734, 0.016893812837251106]\n",
      "On iteration 650\tBeta_star is 0.082228\tU-star is 0.001792\tActive ks 12\tAlpha is 8.302854\n",
      "\n",
      "[0.26950182428740804, 0.12259136598584214, 0.10444810028634452, 0.07919760203394596, 0.06354117514274697, 0.015629822329393372, 0.08081764283106936, 0.010911354517331997, 0.031139955700725756, 0.027765000553246558, 0.07106813721622984, 0.041159745534795796]\n",
      "On iteration 700\tBeta_star is 0.294621\tU-star is 0.000207\tActive ks 13\tAlpha is 5.867618\n",
      "\n",
      "[0.09676023294626707, 0.13335710070896203, 0.11944912726805693, 0.1593396935849319, 0.01901747331799918, 0.036128005698035634, 0.015888580138527744, 0.02059330862010151, 0.018940074498295694, 0.057171827600620666, 0.009932975980743412, 0.0076959854491888266, 0.011104328662541414]\n",
      "On iteration 750\tBeta_star is 0.084335\tU-star is 0.000349\tActive ks 13\tAlpha is 6.184633\n",
      "\n",
      "[0.2101050037375787, 0.26759152868221103, 0.12137761023935043, 0.010110584052248486, 0.09471457592400204, 0.014533016240023221, 0.06649827204709052, 0.025651605833748797, 0.02125638331652798, 0.05436699159112861, 0.016030311646521647, 0.004892024802799349, 0.008537193486635543]\n",
      "On iteration 800\tBeta_star is 0.057361\tU-star is 0.000180\tActive ks 14\tAlpha is 13.987366\n",
      "\n",
      "[0.04046628932051356, 0.2926834575876813, 0.10845184613409205, 0.09619814763989927, 0.07946181522049726, 0.02326237747081369, 0.06809793495897677, 0.05051277407165278, 0.08920829382024421, 0.011707250908084737, 0.06076128862200827, 0.010714345803103528, 0.01039551452657071, 0.0007181131993295214]\n",
      "On iteration 850\tBeta_star is 0.051227\tU-star is 0.004133\tActive ks 10\tAlpha is 8.781257\n",
      "\n",
      "[0.2785738448202364, 0.2197585204420003, 0.07501928469492296, 0.024653594468091674, 0.060042406258119144, 0.09766796129193082, 0.030820739542159494, 0.10819703463328903, 0.015022954059362627, 0.039016948627402064]\n",
      "On iteration 900\tBeta_star is 0.072171\tU-star is 0.000276\tActive ks 12\tAlpha is 10.622512\n",
      "\n",
      "[0.20570168869035724, 0.03571629338735434, 0.24240537032437903, 0.035610301118422207, 0.048429516737000876, 0.09837434068631627, 0.03874754318511328, 0.05598329199315871, 0.13241441000175788, 0.01887505949320905, 0.011804628264904988, 0.003766269488051865]\n",
      "On iteration 950\tBeta_star is 0.115578\tU-star is 0.000513\tActive ks 11\tAlpha is 6.251343\n",
      "\n",
      "[0.16254026153762086, 0.2225201382831388, 0.023035843915532015, 0.12004688104505655, 0.14656934558842796, 0.05106233618430572, 0.03403271670646608, 0.06664731125341058, 0.0347698369807845, 0.006996887800172649, 0.016200229598660403]\n",
      "On iteration 1000\tBeta_star is 0.147473\tU-star is 0.001576\tActive ks 11\tAlpha is 8.487043\n",
      "\n",
      "[0.28258199831110975, 0.11553154884165656, 0.054937762954908216, 0.045360813671890744, 0.09417895443412584, 0.16037093858056456, 0.03711992935535531, 0.007156841220945832, 0.017206851673866347, 0.00647140166017091, 0.031609544111843184]\n",
      "On iteration 1050\tBeta_star is 0.132500\tU-star is 0.002504\tActive ks 11\tAlpha is 8.692016\n",
      "\n",
      "[0.36098000234349104, 0.018685572276671086, 0.13208056553722824, 0.21627815919088392, 0.01695019043603628, 0.02562807035703127, 0.048255543200356577, 0.012915551186563573, 0.01659153017781681, 0.008585810819920449, 0.010549010346727823]\n",
      "On iteration 1100\tBeta_star is 0.111829\tU-star is 0.000024\tActive ks 11\tAlpha is 9.098127\n",
      "\n",
      "[0.45476936302035303, 0.2008482803628223, 0.073163399689472, 0.023581155194032824, 0.03075209135838078, 0.014873058439952002, 0.026034063855223517, 0.015421672853318986, 0.019019730027460897, 0.022937260028303878, 0.006771364386291458]\n",
      "On iteration 1150\tBeta_star is 0.095888\tU-star is 0.002215\tActive ks 13\tAlpha is 11.861289\n",
      "\n",
      "[0.32958417199613244, 0.1092474588126683, 0.10492668570041117, 0.0604875357628973, 0.008578343259916035, 0.03083424465978955, 0.0389475141459129, 0.12180632413623367, 0.017149051951523216, 0.005042971788417134, 0.02756630429569893, 0.022160184186804235, 0.027780814779039664]\n",
      "On iteration 1200\tBeta_star is 0.105495\tU-star is 0.001876\tActive ks 7\tAlpha is 8.536335\n",
      "\n",
      "[0.33569670632204174, 0.10391412032590447, 0.033083709279845455, 0.3067330662138579, 0.06355301377453468, 0.03290451852790512, 0.018619951965953705]\n",
      "On iteration 1250\tBeta_star is 0.099880\tU-star is 0.000060\tActive ks 12\tAlpha is 13.010689\n",
      "\n",
      "[0.2447752260231289, 0.1301664797922841, 0.1980339018206916, 0.06415398841955229, 0.0639430557134683, 0.052919582974349406, 0.037923552978137175, 0.05545138406003701, 0.012216241795585704, 0.001013493006888211, 0.024386434467214654, 0.0151367967862069]\n",
      "On iteration 1300\tBeta_star is 0.043695\tU-star is 0.000332\tActive ks 16\tAlpha is 15.918685\n",
      "\n",
      "[0.3277423676121702, 0.0481386451220332, 0.0876338106477707, 0.1092620870917129, 0.07089610951789503, 0.10547701997704469, 0.05346009352918677, 0.030132543599447503, 0.007978830497408445, 0.028730041567658814, 0.008444211010595082, 0.013610540955673052, 0.014939963872869944, 0.01614085175489608, 0.027389016691883976, 0.006328759883550417]\n",
      "On iteration 1350\tBeta_star is 0.148999\tU-star is 0.000883\tActive ks 13\tAlpha is 11.552355\n",
      "\n",
      "[0.2680640952223313, 0.13978572734774491, 0.041260716567724495, 0.045313948810522045, 0.008361906158392728, 0.03285904714101411, 0.10178255133902793, 0.04639030898012597, 0.035580229333040565, 0.06696695145083775, 0.014453188150592218, 0.0311947309781717, 0.01898803257040822]\n",
      "On iteration 1400\tBeta_star is 0.074947\tU-star is 0.001330\tActive ks 12\tAlpha is 7.794714\n",
      "\n",
      "[0.32277294005664015, 0.0874469693027071, 0.07589033997839513, 0.019498622373362515, 0.1473312165156059, 0.10401910112320814, 0.07155355402251898, 0.014941833091350819, 0.02692668246727054, 0.009872665836102579, 0.011718868715549656, 0.03308013457889907]\n",
      "On iteration 1450\tBeta_star is 0.166308\tU-star is 0.000603\tActive ks 8\tAlpha is 4.042897\n",
      "\n",
      "[0.32657797036267017, 0.04951848478491256, 0.03363799769515663, 0.23036806244307087, 0.06652197518213493, 0.10397220437465278, 0.01057505582955837, 0.012519966610918604]\n",
      "On iteration 1500\tBeta_star is 0.180304\tU-star is 0.001860\tActive ks 12\tAlpha is 8.394876\n",
      "\n",
      "[0.2646079219462898, 0.06725557445122643, 0.172693143675644, 0.04800779352210548, 0.06217952975493769, 0.019329954829042484, 0.032104758041922386, 0.020434931763753383, 0.052695972359832734, 0.056610795629597886, 0.009492379626246217, 0.014282837801574324]\n",
      "On iteration 1550\tBeta_star is 0.103407\tU-star is 0.000333\tActive ks 17\tAlpha is 14.013561\n",
      "\n",
      "[0.08801638357321802, 0.01044974423045759, 0.19913176380983164, 0.1478700797707537, 0.006888426991127472, 0.18833791335889083, 0.02940108374549068, 0.04767292564105427, 0.020962488417243293, 0.023620241589538273, 0.006976102128300793, 0.03511574000129175, 0.006555711432519284, 0.02478799265049102, 0.009014807715395829, 0.03489022912149894, 0.016901710354909893]\n",
      "On iteration 1600\tBeta_star is 0.017545\tU-star is 0.004704\tActive ks 8\tAlpha is 7.882636\n",
      "\n",
      "[0.23411260512159737, 0.1231741305280108, 0.299695792099886, 0.16923096393445802, 0.023531102658974946, 0.0935991289846377, 0.013072427587772514, 0.02603920810461292]\n",
      "On iteration 1650\tBeta_star is 0.035895\tU-star is 0.001859\tActive ks 11\tAlpha is 7.794454\n",
      "\n",
      "[0.17856952719306304, 0.1873289072771018, 0.07145280688594645, 0.014203339216028324, 0.20792664088162516, 0.20427428885718063, 0.02461274629219467, 0.04343950366990531, 0.017724359041624036, 0.006814352943099636, 0.007759014891626288]\n",
      "On iteration 1700\tBeta_star is 0.159349\tU-star is 0.002284\tActive ks 10\tAlpha is 4.136280\n",
      "\n",
      "[0.318516845744506, 0.07497544939321302, 0.06851747673006779, 0.12148593112608555, 0.12792278182100492, 0.027297083864855142, 0.07860910577845454, 0.007626785942884113, 0.009046280370605139, 0.006652786403921077]\n",
      "On iteration 1750\tBeta_star is 0.016871\tU-star is 0.000384\tActive ks 14\tAlpha is 13.247020\n",
      "\n",
      "[0.24433040830501734, 0.12372917325079993, 0.1841635166519228, 0.1260047360541237, 0.046972139314814775, 0.038427617063256536, 0.04738260453604557, 0.11928314673782589, 0.009328852419013552, 0.014137637095912014, 0.019415336014715845, 0.0036947386096988105, 0.0030496185215920643, 0.0032092336661040484]\n",
      "On iteration 1800\tBeta_star is 0.111950\tU-star is 0.000539\tActive ks 9\tAlpha is 7.742355\n",
      "\n",
      "[0.3419120351287245, 0.02612984372803478, 0.05892921726680097, 0.13585528165649258, 0.08230151573850075, 0.040769511009157766, 0.046914891451903695, 0.0997187886880453, 0.05551878912150362]\n",
      "On iteration 1850\tBeta_star is 0.061186\tU-star is 0.005798\tActive ks 10\tAlpha is 3.857794\n",
      "\n",
      "[0.2313827437099959, 0.1933928163434335, 0.0700436104851819, 0.25895250637596934, 0.0935522991063237, 0.018037876318670733, 0.007518245854967282, 0.021410323067716716, 0.03221809316802036, 0.012305345124360744]\n",
      "On iteration 1900\tBeta_star is 0.122487\tU-star is 0.004326\tActive ks 6\tAlpha is 4.383610\n",
      "\n",
      "[0.25542648711489296, 0.24706148844415327, 0.1649098118053952, 0.12788893438954274, 0.07008112933410676, 0.012145294288807035]\n",
      "On iteration 1950\tBeta_star is 0.084635\tU-star is 0.000046\tActive ks 8\tAlpha is 7.599952\n",
      "\n",
      "[0.24460078037540361, 0.3729359894634934, 0.07938493698259645, 0.059285617382242965, 0.10386583377508839, 0.011829080245358989, 0.03427318184235054, 0.009189646897810475]\n",
      "On iteration 2000\tBeta_star is 0.120986\tU-star is 0.003965\tActive ks 6\tAlpha is 6.943089\n",
      "\n",
      "[0.26586616988371464, 0.28073610805317617, 0.10944071649549765, 0.06002016298823048, 0.07581202437894587, 0.08713925748672756]\n",
      "On iteration 2050\tBeta_star is 0.122479\tU-star is 0.002164\tActive ks 9\tAlpha is 7.689789\n",
      "\n",
      "[0.24010284058260678, 0.14709267681240557, 0.045418249908620714, 0.14486225248585033, 0.13019813346775644, 0.10629823508592699, 0.03251194015664706, 0.00670557722004005, 0.024331066721248882]\n",
      "On iteration 2100\tBeta_star is 0.018114\tU-star is 0.000173\tActive ks 12\tAlpha is 18.420775\n",
      "\n",
      "[0.2751940476192606, 0.28861827613981617, 0.05361928951278576, 0.07242793098963944, 0.015713123492945933, 0.06083316214068824, 0.011154533004541826, 0.10232252035681702, 0.020408724782755357, 0.06334885319302093, 0.015249894652920171, 0.002995494657601563]\n",
      "On iteration 2150\tBeta_star is 0.127352\tU-star is 0.000075\tActive ks 11\tAlpha is 8.348513\n",
      "\n",
      "[0.25825237409367524, 0.10959464436821174, 0.06399025842090002, 0.08824936983441735, 0.05324353320309534, 0.08968787604302424, 0.05621357838602929, 0.07759766094457587, 0.04220750508880583, 0.01878992026074422, 0.01482143683868641]\n",
      "On iteration 2200\tBeta_star is 0.084251\tU-star is 0.000246\tActive ks 14\tAlpha is 11.458240\n",
      "\n",
      "[0.3324575639414475, 0.250095214088932, 0.014944701030605164, 0.03177974551564171, 0.004279612394960384, 0.13202969744413082, 0.029502428045459626, 0.024850712135322733, 0.028526024567376285, 0.03454321345093287, 0.008821789218895839, 0.007583030570414919, 0.01248722741151596, 0.0038485267060403925]\n",
      "On iteration 2250\tBeta_star is 0.082216\tU-star is 0.001228\tActive ks 11\tAlpha is 8.018244\n",
      "\n",
      "[0.2603384451974819, 0.0036322074243902093, 0.08377646133169242, 0.18226336829120657, 0.02467391695392089, 0.05215684611364752, 0.1659416217430879, 0.06331400151823147, 0.06527042558825502, 0.008850775201445189, 0.007566244199177883]\n",
      "On iteration 2300\tBeta_star is 0.104714\tU-star is 0.000220\tActive ks 13\tAlpha is 5.412828\n",
      "\n",
      "[0.2220342397493954, 0.08773718722214684, 0.09129401669449089, 0.17840063606674733, 0.08432495165174021, 0.03978836280117278, 0.015586563490304748, 0.11863286089223078, 0.0047916852828585104, 0.035763849149031426, 0.0037801003471575555, 0.00595450808843779, 0.007197071484678809]\n",
      "On iteration 2350\tBeta_star is 0.147482\tU-star is 0.000744\tActive ks 12\tAlpha is 6.780241\n",
      "\n",
      "[0.17392907346655825, 0.10370678561894181, 0.17277060141804412, 0.0871295137393489, 0.04074030638046853, 0.1493766492161041, 0.010742818069549482, 0.033506115107634925, 0.01152535323892507, 0.024924622965500534, 0.02430659484698542, 0.01985974784751691]\n"
     ]
    }
   ],
   "source": [
    "for cur_iter in range(2400): #already ran 100 times \n",
    "    #print \"Starting iter %i\"%(cur_iter)\n",
    "    u = np.zeros(len(Y))\n",
    "    #grab u \n",
    "    for idx, val in enumerate(Y):\n",
    "        cluster_label = int(z[idx])\n",
    "        u[idx] = np.random.uniform(0, w[cluster_label])\n",
    "    \n",
    "    #min u \n",
    "    u_star = np.min(u)\n",
    "    \n",
    "    #find k_star and initalize components until we have enough\n",
    "    beta_star = 1 - np.sum(w)\n",
    "    if cur_iter > 1 and cur_iter % 50 == 0:\n",
    "        print \"On iteration %i\\tBeta_star is %0.06f\\tU-star is %0.06f\\tActive ks %i\\tAlpha is %0.06f\\n\"%(cur_iter, beta_star, u_star, active_ks[-1], total_cs[-1])\n",
    "        print w\n",
    "    while (beta_star >= u_star):\n",
    "        _vk = np.random.beta(1, c)\n",
    "        beta_k = _vk * beta_star\n",
    "        \n",
    "        #append beta_k to the weights\n",
    "        w.append(beta_k)\n",
    "            \n",
    "        #append _vk to v\n",
    "        v.append(_vk)\n",
    "        \n",
    "        #append new mu to mus \n",
    "        mus.append(np.random.normal(0, s_sqrt))\n",
    "        \n",
    "        #append new lambda to lambda\n",
    "        new_lambd = np.random.gamma(epsilon, 1/epsilon)\n",
    "        lambdas.append(new_lambd)\n",
    "\n",
    "        \n",
    "        #finally update beta_star\n",
    "        beta_star = beta_star*(1 -_vk)\n",
    "    \n",
    "    assert len(w) == len(mus)\n",
    "    assert len(w) == len(lambdas)\n",
    "    \n",
    "    #now we get the cluster assignments z for each observation\n",
    "    for y_idx , y_val in enumerate(Y):\n",
    "        z_probs = np.zeros(len(w))\n",
    "        for cluster_idx, mu in enumerate(mus):\n",
    "            if w[cluster_idx] > u[y_idx]:\n",
    "                z_probs[cluster_idx] = norm.pdf(y_val, loc = mu, scale = lambda_to_std(lambdas[cluster_idx]))\n",
    "            else:\n",
    "                z_probs[cluster_idx] = 0\n",
    "        #sample cluster assignments\n",
    "        norm_z_probs = z_probs / np.sum(z_probs)\n",
    "        z_sampler = stats.rv_discrete(name = \"z_sampler\", values = (np.arange(len(z_probs)), norm_z_probs))\n",
    "        z_assignment = z_sampler.rvs()\n",
    "        z[y_idx] = z_assignment\n",
    "        #print \"%i\\t%0.03f\\t%0.03f\\t%0.03f\\t%i\"%(y_idx, y_val, mu_)\n",
    "    \n",
    "    z_ints = [int(x) for x in z] #make z ints for easier use in future \n",
    "    \n",
    "    #perform necessary updates for means and lambdas for each cluster \n",
    "    new_mus = []\n",
    "    new_lambdas = []\n",
    "    new_z = np.zeros(len(Y))\n",
    "    active_cluster = 0\n",
    "    count_dict = {}\n",
    "    \n",
    "    for cluster_idx in range(len(w)):\n",
    "        #update means\n",
    "        cur_lambda = lambdas[cluster_idx]    \n",
    "        eta = 0\n",
    "        m = 0\n",
    "        y_k = []\n",
    "        for y_idx, z_val in enumerate(z_ints):\n",
    "            if z_val == cluster_idx:\n",
    "                m += 1\n",
    "                eta += Y[y_idx]\n",
    "                y_k.append(Y[y_idx])\n",
    "                new_z[y_idx] = active_cluster\n",
    "        \n",
    "        if m == 0:\n",
    "            continue\n",
    "        else:\n",
    "            count_dict[active_cluster] = m\n",
    "            active_cluster += 1        \n",
    "            _mean = (eta * cur_lambda)/(m * cur_lambda + s)\n",
    "            _variance = 1 / (m * cur_lambda + s)\n",
    "            new_mu = np.random.normal(_mean, np.sqrt(_variance))\n",
    "            #mus[cluster_idx] = new_mu\n",
    "            new_mus.append(new_mu)\n",
    "            #update lambda\n",
    "            d = 0\n",
    "            for val in y_k:\n",
    "                d += (val - new_mu) ** 2\n",
    "            \n",
    "            _alpha = epsilon + m/2\n",
    "            _beta = epsilon + d/2\n",
    "            new_lambda = np.random.gamma(_alpha, 1/_beta)\n",
    "            #lambdas[cluster_idx] = new_lambda\n",
    "            #print \"added at %i\"%(cluster_idx)\n",
    "            new_lambdas.append(new_lambda)\n",
    "            stds.append(lambda_to_std(new_lambda))\n",
    "            \n",
    "    #update the stick breaking lengths v_k \n",
    "    k = active_cluster \n",
    "    vks = []\n",
    "    #print count_dict\n",
    "    for cluster_idx in range(k):\n",
    "        n_k = count_dict[cluster_idx]\n",
    "        n_j = 0\n",
    "        #print range(cluster_idx + 1, k )\n",
    "        for i in range(cluster_idx+1, k):\n",
    "            n_j += count_dict[i]\n",
    "        vks.append(np.random.beta(1 + n_k, c + n_j))\n",
    "        \n",
    "    #update weights w_k\n",
    "    new_w = []\n",
    "    old_vks = []\n",
    "    for cluster_idx in range(k):\n",
    "        if cluster_idx == 0:\n",
    "            new_w.append(vks[cluster_idx])    \n",
    "            old_vks.append(1-vks[cluster_idx])\n",
    "        else:\n",
    "            #print cluster_idx\n",
    "            vj = 1 \n",
    "            for i in range(cluster_idx):\n",
    "                #print i\n",
    "                #print old_vks\n",
    "                vj *= old_vks[i]\n",
    "            new_w.append(vks[cluster_idx] * vj)\n",
    "            old_vks.append(1-vks[cluster_idx])   \n",
    "    \n",
    "    #lastly, update c (alpha) and nu (Escobar & West 1995, section 6)\n",
    "    #update c\n",
    "    new_nu = np.random.beta(c + 1, len(Y))    \n",
    "    \n",
    "    pi_n_ratio = (a + k - 1) / (len(Y) * (b - np.log10(new_nu)))\n",
    "    pi_1 = pi_n_ratio / (1 + pi_n_ratio)\n",
    "    pi_2 = 1 - pi_1\n",
    "    #new_c = pi_1 * np.random.gamma(a+k, b - np.log10(new_nu)) + pi_2 * np.random.gamma(a+k-1, b-np.log10(new_nu))\n",
    "    new_c = pi_1 * np.random.gamma(a+k, b - np.log10(new_nu)) + pi_2 * np.random.gamma(a+k-1, b-np.log10(new_nu))\n",
    "    #new_c = np.random.gamma(a+k, b - np.log10(new_nu))\n",
    "    #new_c = ((c**k )* gamma(c) * np.random.gamma(0.1,10)) / (gamma(c + len(Y)))      \n",
    "    \n",
    "    #store results\n",
    "    active_ks.append(k)\n",
    "    total_ks.append(len(w))\n",
    "    total_cs.append(new_c)\n",
    "    \n",
    "    #end of gibbs cycle, update all the variables for next round\n",
    "    mus = new_mus\n",
    "    lambdas = new_lambdas\n",
    "    z = new_z \n",
    "    c = new_c\n",
    "    nu = new_nu\n",
    "    v = vks \n",
    "    w = new_w"
   ]
  },
  {
   "cell_type": "code",
   "execution_count": 21,
   "metadata": {
    "collapsed": false
   },
   "outputs": [
    {
     "data": {
      "image/png": "[encoded data removed]",
      "text/plain": [
       "<matplotlib.figure.Figure at 0x7facd52b8490>"
      ]
     },
     "metadata": {},
     "output_type": "display_data"
    }
   ],
   "source": [
    "\n",
    "plt.clf()\n",
    "#plt.scatter(np.arange(len(active_ks)), active_ks)\n",
    "\n",
    "plt.plot(np.arange(len(active_ks)), movingaverage(total_ks, 400), 'b-', label='Moving average total k')\n",
    "plt.plot(np.arange(len(active_ks)), movingaverage(active_ks, 400), 'r-', label='Moving average realized k')\n",
    "plt.xlabel('Iterations')\n",
    "plt.ylabel('Clusters')\n",
    "plt.xlim((0,2500))\n",
    "plt.legend(prop={'size':8})\n",
    "plt.title('Moving average of clusters vs. Gibbs Iterations')\n",
    "plt.savefig('var_6.png', dpi=500)\n"
   ]
  },
  {
   "cell_type": "code",
   "execution_count": 22,
   "metadata": {
    "collapsed": false,
    "scrolled": true
   },
   "outputs": [
    {
     "name": "stdout",
     "output_type": "stream",
     "text": [
      "11.0652\n",
      "55.5164\n"
     ]
    }
   ],
   "source": [
    "print np.mean(active_ks)\n",
    "print np.mean(total_ks)"
   ]
  },
  {
   "cell_type": "code",
   "execution_count": 23,
   "metadata": {
    "collapsed": false
   },
   "outputs": [
    {
     "data": {
      "image/png": "[encoded data removed]",
      "text/plain": [
       "<matplotlib.figure.Figure at 0x7facd52a5790>"
      ]
     },
     "metadata": {},
     "output_type": "display_data"
    }
   ],
   "source": [
    "\n",
    "plt.clf()\n",
    "#plt.scatter(np.arange(len(active_ks)), active_ks)\n",
    "\n",
    "plt.plot(np.arange(len(active_ks)), movingaverage(total_cs, 400), 'r-', label='Moving average c')\n",
    "plt.xlabel('Iterations')\n",
    "plt.ylabel('c')\n",
    "plt.xlim((0,2000))\n",
    "plt.legend(prop={'size':8})\n",
    "plt.title('Moving average of c vs. Gibbs Iterations')\n",
    "plt.savefig('var_6.png', dpi=500)\n"
   ]
  },
  {
   "cell_type": "markdown",
   "metadata": {},
   "source": [
    "Looks like our algorithm is dramatically over_estimating the number of active clusters. The c values seem to be...off. \n",
    "What if we fix $c$? (Fix $c = 1$) \n",
    "\n",
    "I think there is something wrong with my $c$ updates...\n"
   ]
  },
  {
   "cell_type": "code",
   "execution_count": 24,
   "metadata": {
    "collapsed": false,
    "scrolled": true
   },
   "outputs": [
    {
     "name": "stdout",
     "output_type": "stream",
     "text": [
      "On iteration 50\tBeta_star is 0.018051\tU-star is 0.004614\tActive ks 5\tAlpha is 4.563308\n",
      "\n",
      "[0.25883372174933594, 0.2502570805984022, 0.16778696066957494, 0.28545250060363536, 0.019618934636001575]\n",
      "On iteration 100\tBeta_star is 0.016298\tU-star is 0.005445\tActive ks 6\tAlpha is 19.251681\n",
      "\n",
      "[0.323200128459084, 0.0888885455485855, 0.37788291659799766, 0.16066745381972783, 0.019134367478306828, 0.013928385157903064]\n",
      "On iteration 150\tBeta_star is 0.005593\tU-star is 0.001901\tActive ks 5\tAlpha is 2.755946\n",
      "\n",
      "[0.30565358202646853, 0.3537989144933992, 0.25500208478782993, 0.03151680422538613, 0.04843574213858807]\n",
      "On iteration 200\tBeta_star is 0.001922\tU-star is 0.003530\tActive ks 4\tAlpha is 2.996882\n",
      "\n",
      "[0.33046143836844166, 0.357154369383644, 0.2863851197153336, 0.024077383343893463]\n",
      "On iteration 250\tBeta_star is 0.018556\tU-star is 0.000596\tActive ks 4\tAlpha is 3.970955\n",
      "\n",
      "[0.3334721105033861, 0.4303807017693731, 0.20950878513170312, 0.008082756894214498]\n",
      "On iteration 300\tBeta_star is 0.007546\tU-star is 0.013105\tActive ks 3\tAlpha is 4.200028\n",
      "\n",
      "[0.2763744624190419, 0.23752996430621806, 0.47854963967942327]\n",
      "On iteration 350\tBeta_star is 0.006129\tU-star is 0.000529\tActive ks 6\tAlpha is 7.702801\n",
      "\n",
      "[0.250104078916479, 0.31067044105921116, 0.3665673140867941, 0.012451251885545075, 0.0513562244037042, 0.0027215107147576236]\n",
      "On iteration 400\tBeta_star is 0.018566\tU-star is 0.004279\tActive ks 4\tAlpha is 4.668684\n",
      "\n",
      "[0.3680092306813171, 0.35444626053319334, 0.2175240143618183, 0.04145447856865471]\n",
      "On iteration 450\tBeta_star is 0.000235\tU-star is 0.001046\tActive ks 3\tAlpha is 2.062382\n",
      "\n",
      "[0.19962381542246896, 0.46754130627279084, 0.33259949606629025]\n",
      "On iteration 500\tBeta_star is 0.033303\tU-star is 0.001055\tActive ks 7\tAlpha is 5.435206\n",
      "\n",
      "[0.36631599736983306, 0.0794943956237703, 0.18012503166203883, 0.07008792670571616, 0.14761956403488585, 0.08218517318997981, 0.040869010568503304]\n",
      "On iteration 550\tBeta_star is 0.005925\tU-star is 0.007188\tActive ks 4\tAlpha is 14.834986\n",
      "\n",
      "[0.28205822117640234, 0.4702264909081565, 0.19199665409206454, 0.04979407593794179]\n",
      "On iteration 600\tBeta_star is 0.006038\tU-star is 0.000570\tActive ks 7\tAlpha is 9.162866\n",
      "\n",
      "[0.27891263627362833, 0.2636876030846549, 0.17965992435155656, 0.12673176829147043, 0.07368674718867173, 0.027538524358404152, 0.04374495683824057]\n",
      "On iteration 650\tBeta_star is 0.003286\tU-star is 0.001066\tActive ks 4\tAlpha is 3.976512\n",
      "\n",
      "[0.35340283368921355, 0.303160467448712, 0.33800914539190746, 0.002141372287081586]\n",
      "On iteration 700\tBeta_star is 0.009708\tU-star is 0.009035\tActive ks 3\tAlpha is 1.192801\n",
      "\n",
      "[0.4058709346657593, 0.22881748440876645, 0.3556037322289194]\n",
      "On iteration 750\tBeta_star is 0.005158\tU-star is 0.002813\tActive ks 4\tAlpha is 6.331697\n",
      "\n",
      "[0.29759498609398516, 0.3451280492303339, 0.31776765868540213, 0.03435132698820867]\n",
      "On iteration 800\tBeta_star is 0.002267\tU-star is 0.002203\tActive ks 4\tAlpha is 9.799097\n",
      "\n",
      "[0.32111392887522483, 0.17028645378042176, 0.4332093363563248, 0.07312318844776014]\n",
      "On iteration 850\tBeta_star is 0.031773\tU-star is 0.001266\tActive ks 4\tAlpha is 3.083645\n",
      "\n",
      "[0.468646540743352, 0.18730355103427587, 0.3089886047141793, 0.0032884979213824027]\n",
      "On iteration 900\tBeta_star is 0.000347\tU-star is 0.001587\tActive ks 5\tAlpha is 8.636221\n",
      "\n",
      "[0.31375601749993287, 0.4293031091160336, 0.22877082514268893, 0.0157706972262797, 0.012052063737471511]\n",
      "On iteration 950\tBeta_star is 0.002149\tU-star is 0.001812\tActive ks 6\tAlpha is 8.963685\n",
      "\n",
      "[0.36672722849464223, 0.2825473703561736, 0.26970046725658875, 0.013699817714686872, 0.04362138814660595, 0.021554614487764887]\n",
      "On iteration 1000\tBeta_star is 0.001828\tU-star is 0.000768\tActive ks 5\tAlpha is 3.291692\n",
      "\n",
      "[0.31754569433682334, 0.2795311198788745, 0.34138840280677624, 0.0365788631450936, 0.02312813199054799]\n",
      "On iteration 1050\tBeta_star is 0.010301\tU-star is 0.001587\tActive ks 6\tAlpha is 7.893074\n",
      "\n",
      "[0.15404230382827824, 0.3633557955862898, 0.13992227418296926, 0.29436202088520835, 0.031033151963836533, 0.006983152073003638]\n",
      "On iteration 1100\tBeta_star is 0.001068\tU-star is 0.003066\tActive ks 6\tAlpha is 7.756301\n",
      "\n",
      "[0.412993816702929, 0.061255888015286405, 0.24989239329721982, 0.17965720369955324, 0.08872259433491002, 0.006410258521930808]\n",
      "On iteration 1150\tBeta_star is 0.000103\tU-star is 0.002681\tActive ks 4\tAlpha is 5.929682\n",
      "\n",
      "[0.3533717999147703, 0.4952360325696526, 0.11026758620389557, 0.04102198485343404]\n",
      "On iteration 1200\tBeta_star is 0.008999\tU-star is 0.000748\tActive ks 4\tAlpha is 6.805418\n",
      "\n",
      "[0.32770470080111497, 0.3153734598663203, 0.3259261031344294, 0.021996993027191658]\n",
      "On iteration 1250\tBeta_star is 0.011281\tU-star is 0.008987\tActive ks 5\tAlpha is 5.703630\n",
      "\n",
      "[0.2648780303902309, 0.36946665291594677, 0.25569260661374593, 0.08938132263656288, 0.009300093743079873]\n",
      "On iteration 1300\tBeta_star is 0.000142\tU-star is 0.007282\tActive ks 4\tAlpha is 0.751838\n",
      "\n",
      "[0.32955244201930345, 0.35703284775422006, 0.2953122760961094, 0.017960640818241853]\n",
      "On iteration 1350\tBeta_star is 0.008053\tU-star is 0.003480\tActive ks 6\tAlpha is 20.201306\n",
      "\n",
      "[0.3548755027729555, 0.14497991723969425, 0.17622409009965226, 0.16055391190367016, 0.13785647036058965, 0.017456808157712476]\n",
      "On iteration 1400\tBeta_star is 0.005613\tU-star is 0.003422\tActive ks 6\tAlpha is 8.926132\n",
      "\n",
      "[0.3460053524255022, 0.295010155267343, 0.09220342281141317, 0.17449442006958418, 0.051920461191125034, 0.03475283132766993]\n",
      "On iteration 1450\tBeta_star is 0.019499\tU-star is 0.002875\tActive ks 4\tAlpha is 4.072030\n",
      "\n",
      "[0.3754144283139321, 0.2185667381232388, 0.27832081759965277, 0.10819891553811745]\n",
      "On iteration 1500\tBeta_star is 0.013822\tU-star is 0.008730\tActive ks 5\tAlpha is 9.803977\n",
      "\n",
      "[0.3448185450111121, 0.15966219893705016, 0.06303222420814728, 0.37980862363629253, 0.038856259259285125]\n",
      "On iteration 1550\tBeta_star is 0.016920\tU-star is 0.001488\tActive ks 7\tAlpha is 2.153098\n",
      "\n",
      "[0.3669536084170687, 0.061714693884462206, 0.019138500596614018, 0.230906966864739, 0.22940995400454667, 0.01607359210166607, 0.058882726210828296]\n",
      "On iteration 1600\tBeta_star is 0.012774\tU-star is 0.000206\tActive ks 6\tAlpha is 7.252897\n",
      "\n",
      "[0.2940413614138375, 0.14065819971983592, 0.37214154661114546, 0.04633494866654857, 0.09636419779666973, 0.03768585477978451]\n",
      "On iteration 1650\tBeta_star is 0.014501\tU-star is 0.001562\tActive ks 4\tAlpha is 8.258328\n",
      "\n",
      "[0.3488145137357684, 0.37919662009268534, 0.22694259921606094, 0.03054531836808657]\n",
      "On iteration 1700\tBeta_star is 0.028186\tU-star is 0.005150\tActive ks 4\tAlpha is 9.343931\n",
      "\n",
      "[0.354965362802384, 0.13253193184482964, 0.35674451974040294, 0.1275726324788812]\n",
      "On iteration 1750\tBeta_star is 0.014930\tU-star is 0.000507\tActive ks 6\tAlpha is 5.053504\n",
      "\n",
      "[0.324653139650057, 0.06564747659323229, 0.30995904449456196, 0.13566638924618404, 0.09582074458037804, 0.053323258718412654]\n",
      "On iteration 1800\tBeta_star is 0.018606\tU-star is 0.012850\tActive ks 5\tAlpha is 21.194411\n",
      "\n",
      "[0.3606084816788718, 0.13846911754727817, 0.29334959183236775, 0.05554601260415252, 0.13342127047353397]\n",
      "On iteration 1850\tBeta_star is 0.003467\tU-star is 0.002793\tActive ks 6\tAlpha is 11.843598\n",
      "\n",
      "[0.4031538803528579, 0.3413442624658163, 0.11596948752283817, 0.0821812652599609, 0.02735785856430471, 0.026526644884690934]\n",
      "On iteration 1900\tBeta_star is 0.011425\tU-star is 0.001397\tActive ks 4\tAlpha is 7.308129\n",
      "\n",
      "[0.3232610028669919, 0.44604384031790034, 0.212756266896812, 0.006513654369356567]\n",
      "On iteration 1950\tBeta_star is 0.000549\tU-star is 0.000517\tActive ks 6\tAlpha is 8.404409\n",
      "\n",
      "[0.37222424550429833, 0.3698613265041995, 0.2151822617858403, 0.005546583189792778, 0.0349956092346623, 0.0016404882635517864]\n",
      "On iteration 2000\tBeta_star is 0.067479\tU-star is 0.006483\tActive ks 3\tAlpha is 3.618981\n",
      "\n",
      "[0.29867103998794, 0.4209139719070402, 0.21293563145825767]\n",
      "On iteration 2050\tBeta_star is 0.000989\tU-star is 0.003398\tActive ks 6\tAlpha is 6.238353\n",
      "\n",
      "[0.3791931962669525, 0.39964402226415685, 0.15100715029338013, 0.03025668661271511, 0.019711233841351445, 0.0191989407678203]\n",
      "On iteration 2100\tBeta_star is 0.020584\tU-star is 0.002042\tActive ks 3\tAlpha is 7.187558\n",
      "\n",
      "[0.3012585908295957, 0.5050258653413231, 0.17313115566212167]\n",
      "On iteration 2150\tBeta_star is 0.005988\tU-star is 0.000270\tActive ks 6\tAlpha is 8.363503\n",
      "\n",
      "[0.29820845136768204, 0.40777972659555933, 0.2264773157343539, 0.009999352370134773, 0.04244735094878531, 0.009099649100131633]\n",
      "On iteration 2200\tBeta_star is 0.004228\tU-star is 0.007509\tActive ks 6\tAlpha is 2.502708\n",
      "\n",
      "[0.3995522690216392, 0.1825403432093752, 0.30406930489161565, 0.05167805693570976, 0.014621212060931985, 0.04331039550702568]\n",
      "On iteration 2250\tBeta_star is 0.008599\tU-star is 0.001207\tActive ks 5\tAlpha is 5.915028\n",
      "\n",
      "[0.32489372077585316, 0.23090755194680349, 0.3260895637630078, 0.08795912473098699, 0.021551356649953685]\n",
      "On iteration 2300\tBeta_star is 0.002426\tU-star is 0.001378\tActive ks 7\tAlpha is 12.665071\n",
      "\n",
      "[0.3104648456621625, 0.2640311788914549, 0.019146027863373407, 0.04219327005740273, 0.2678211895212188, 0.05948902206406402, 0.0344284833649175]\n",
      "On iteration 2350\tBeta_star is 0.010032\tU-star is 0.002242\tActive ks 4\tAlpha is 5.817780\n",
      "\n",
      "[0.40291972437012263, 0.3426791848126712, 0.22077492644519872, 0.023594272239795856]\n",
      "On iteration 2400\tBeta_star is 0.005659\tU-star is 0.008800\tActive ks 6\tAlpha is 11.471285\n",
      "\n",
      "[0.38137904075737245, 0.21183472502966982, 0.23833142876742006, 0.09413103060943831, 0.02964641869456649, 0.03901878100330838]\n",
      "On iteration 2450\tBeta_star is 0.000717\tU-star is 0.003314\tActive ks 5\tAlpha is 5.704062\n",
      "\n",
      "[0.3503874285507275, 0.3163272650959951, 0.18728993439369793, 0.13934736076809326, 0.005931022111266689]\n"
     ]
    }
   ],
   "source": [
    "epsilon = 0.5\n",
    "s = 0.1\n",
    "s_inv = 1/s\n",
    "s_sqrt = np.sqrt(s_inv)\n",
    "#s_sqrt = s_inv\n",
    "a = 0.1\n",
    "b = 0.1 \n",
    "c = 1\n",
    "nu = np.random.beta(c+1, len(Y))\n",
    "\n",
    "#cycle 1\n",
    "#initalize first weights\n",
    "w = []\n",
    "w.append(np.random.beta(1, c))\n",
    "\n",
    "v = []\n",
    "v.append(w[0])\n",
    "#initalize first mu\n",
    "mus = []\n",
    "mus.append(np.random.normal(0, s_sqrt))\n",
    "\n",
    "#initalize first lambda\n",
    "lambdas = []\n",
    "lambdas.append(np.random.gamma(epsilon,epsilon))\n",
    "stds = []\n",
    "stds.append(lambda_to_std(lambdas[0]))\n",
    "z = np.zeros(len(Y)) #cluster assignments\n",
    "u = np.zeros(len(Y))\n",
    "active_ks = []\n",
    "total_ks = []\n",
    "total_cs = []\n",
    "\n",
    "for cur_iter in range(2500):\n",
    "    #print \"Starting iter %i\"%(cur_iter)\n",
    "    u = np.zeros(len(Y))\n",
    "    #grab u \n",
    "    for idx, val in enumerate(Y):\n",
    "        cluster_label = int(z[idx])\n",
    "        u[idx] = np.random.uniform(0, w[cluster_label])\n",
    "    \n",
    "    #min u \n",
    "    u_star = np.min(u)\n",
    "    \n",
    "    #find k_star and initalize components until we have enough\n",
    "    beta_star = 1 - np.sum(w)\n",
    "    if cur_iter > 1 and cur_iter % 50 == 0:\n",
    "        print \"On iteration %i\\tBeta_star is %0.06f\\tU-star is %0.06f\\tActive ks %i\\tAlpha is %0.06f\\n\"%(cur_iter, beta_star, u_star, active_ks[-1], total_cs[-1])\n",
    "        print w\n",
    "    while (beta_star >= u_star):\n",
    "        _vk = np.random.beta(1, c)\n",
    "        beta_k = _vk * beta_star\n",
    "        \n",
    "        #append beta_k to the weights\n",
    "        w.append(beta_k)\n",
    "            \n",
    "        #append _vk to v\n",
    "        v.append(_vk)\n",
    "        \n",
    "        #append new mu to mus \n",
    "        mus.append(np.random.normal(0, s_sqrt))\n",
    "        \n",
    "        #append new lambda to lambda\n",
    "        new_lambd = np.random.gamma(epsilon, 1/epsilon)\n",
    "        lambdas.append(new_lambd)\n",
    "\n",
    "        \n",
    "        #finally update beta_star\n",
    "        beta_star = beta_star*(1 -_vk)\n",
    "    \n",
    "    assert len(w) == len(mus)\n",
    "    assert len(w) == len(lambdas)\n",
    "    \n",
    "    #now we get the cluster assignments z for each observation\n",
    "    for y_idx , y_val in enumerate(Y):\n",
    "        z_probs = np.zeros(len(w))\n",
    "        for cluster_idx, mu in enumerate(mus):\n",
    "            if w[cluster_idx] > u[y_idx]:\n",
    "                z_probs[cluster_idx] = norm.pdf(y_val, loc = mu, scale = lambda_to_std(lambdas[cluster_idx]))\n",
    "            else:\n",
    "                z_probs[cluster_idx] = 0\n",
    "        #sample cluster assignments\n",
    "        norm_z_probs = z_probs / np.sum(z_probs)\n",
    "        z_sampler = stats.rv_discrete(name = \"z_sampler\", values = (np.arange(len(z_probs)), norm_z_probs))\n",
    "        z_assignment = z_sampler.rvs()\n",
    "        z[y_idx] = z_assignment\n",
    "        #print \"%i\\t%0.03f\\t%0.03f\\t%0.03f\\t%i\"%(y_idx, y_val, mu_)\n",
    "    \n",
    "    z_ints = [int(x) for x in z] #make z ints for easier use in future \n",
    "    \n",
    "    #perform necessary updates for means and lambdas for each cluster \n",
    "    new_mus = []\n",
    "    new_lambdas = []\n",
    "    new_z = np.zeros(len(Y))\n",
    "    active_cluster = 0\n",
    "    count_dict = {}\n",
    "    \n",
    "    for cluster_idx in range(len(w)):\n",
    "        #update means\n",
    "        cur_lambda = lambdas[cluster_idx]    \n",
    "        eta = 0\n",
    "        m = 0\n",
    "        y_k = []\n",
    "        for y_idx, z_val in enumerate(z_ints):\n",
    "            if z_val == cluster_idx:\n",
    "                m += 1\n",
    "                eta += Y[y_idx]\n",
    "                y_k.append(Y[y_idx])\n",
    "                new_z[y_idx] = active_cluster\n",
    "        \n",
    "        if m == 0:\n",
    "            continue\n",
    "        else:\n",
    "            count_dict[active_cluster] = m\n",
    "            active_cluster += 1        \n",
    "            _mean = (eta * cur_lambda)/(m * cur_lambda + s)\n",
    "            _variance = 1 / (m * cur_lambda + s)\n",
    "            new_mu = np.random.normal(_mean, np.sqrt(_variance))\n",
    "            #mus[cluster_idx] = new_mu\n",
    "            new_mus.append(new_mu)\n",
    "            #update lambda\n",
    "            d = 0\n",
    "            for val in y_k:\n",
    "                d += (val - new_mu) ** 2\n",
    "            \n",
    "            _alpha = epsilon + m/2\n",
    "            _beta = epsilon + d/2\n",
    "            new_lambda = np.random.gamma(_alpha, 1/_beta)\n",
    "            #lambdas[cluster_idx] = new_lambda\n",
    "            #print \"added at %i\"%(cluster_idx)\n",
    "            new_lambdas.append(new_lambda)\n",
    "            stds.append(lambda_to_std(new_lambda))\n",
    "            \n",
    "    #update the stick breaking lengths v_k \n",
    "    k = active_cluster \n",
    "    vks = []\n",
    "    #print count_dict\n",
    "    for cluster_idx in range(k):\n",
    "        n_k = count_dict[cluster_idx]\n",
    "        n_j = 0\n",
    "        #print range(cluster_idx + 1, k )\n",
    "        for i in range(cluster_idx+1, k):\n",
    "            n_j += count_dict[i]\n",
    "        vks.append(np.random.beta(1 + n_k, c + n_j))\n",
    "        \n",
    "    #update weights w_k\n",
    "    new_w = []\n",
    "    old_vks = []\n",
    "    for cluster_idx in range(k):\n",
    "        if cluster_idx == 0:\n",
    "            new_w.append(vks[cluster_idx])    \n",
    "            old_vks.append(1-vks[cluster_idx])\n",
    "        else:\n",
    "            #print cluster_idx\n",
    "            vj = 1 \n",
    "            for i in range(cluster_idx):\n",
    "                #print i\n",
    "                #print old_vks\n",
    "                vj *= old_vks[i]\n",
    "            new_w.append(vks[cluster_idx] * vj)\n",
    "            old_vks.append(1-vks[cluster_idx])   \n",
    "    \n",
    "    #lastly, update c (alpha) and nu (Escobar & West 1995, section 6)\n",
    "    #update c\n",
    "    new_nu = np.random.beta(c + 1, len(Y))    \n",
    "    \n",
    "    pi_n_ratio = (a + k - 1) / (len(Y) * (b - np.log10(new_nu)))\n",
    "    pi_1 = pi_n_ratio / (1 + pi_n_ratio)\n",
    "    pi_2 = 1 - pi_1\n",
    "    #new_c = pi_1 * np.random.gamma(a+k, b - np.log10(new_nu)) + pi_2 * np.random.gamma(a+k-1, b-np.log10(new_nu))\n",
    "    new_c = pi_1 * np.random.gamma(a+k, b - np.log10(new_nu)) + pi_2 * np.random.gamma(a+k-1, b-np.log10(new_nu))\n",
    "    #new_c = np.random.gamma(a+k, b - np.log10(new_nu))\n",
    "    #new_c = ((c**k )* gamma(c) * np.random.gamma(0.1,10)) / (gamma(c + len(Y)))      \n",
    "    \n",
    "    #store results\n",
    "    active_ks.append(k)\n",
    "    total_ks.append(len(w))\n",
    "    total_cs.append(new_c)\n",
    "    \n",
    "    #end of gibbs cycle, update all the variables for next round\n",
    "    mus = new_mus\n",
    "    lambdas = new_lambdas\n",
    "    z = new_z \n",
    "    c = 1 #fix c\n",
    "    nu = new_nu\n",
    "    v = vks \n",
    "    w = new_w\n"
   ]
  },
  {
   "cell_type": "code",
   "execution_count": 26,
   "metadata": {
    "collapsed": false
   },
   "outputs": [
    {
     "data": {
      "image/png": "[encoded data removed]",
      "text/plain": [
       "<matplotlib.figure.Figure at 0x7facd4c12fd0>"
      ]
     },
     "metadata": {},
     "output_type": "display_data"
    }
   ],
   "source": [
    "\n",
    "plt.clf()\n",
    "#plt.scatter(np.arange(len(active_ks)), active_ks)\n",
    "\n",
    "plt.plot(np.arange(len(active_ks)), movingaverage(total_ks, 400), 'b-', label='Moving average total k')\n",
    "plt.plot(np.arange(len(active_ks)), movingaverage(active_ks, 400), 'r-', label='Moving average realized k')\n",
    "plt.xlabel('Iterations')\n",
    "plt.ylabel('Clusters')\n",
    "plt.xlim((0,2300))\n",
    "plt.legend(prop={'size':8})\n",
    "plt.title('Moving average of clusters vs. Gibbs Iterations (fixed c)')\n",
    "plt.savefig('var_7.png', dpi=500)\n"
   ]
  },
  {
   "cell_type": "code",
   "execution_count": 27,
   "metadata": {
    "collapsed": false
   },
   "outputs": [
    {
     "data": {
      "image/png": "[encoded data removed]",
      "text/plain": [
       "<matplotlib.figure.Figure at 0x7facd4a69d50>"
      ]
     },
     "metadata": {},
     "output_type": "display_data"
    }
   ],
   "source": [
    "plt.clf()\n",
    "plt.scatter(z , Y)\n",
    "plt.title('Representative Clustering')\n",
    "plt.xlabel('Cluster Index')\n",
    "plt.ylabel('Y value')\n",
    "plt.savefig('rep_clustv7.png',dpi=450)\n",
    "\n"
   ]
  },
  {
   "cell_type": "code",
   "execution_count": 28,
   "metadata": {
    "collapsed": false
   },
   "outputs": [
    {
     "data": {
      "text/plain": [
       "<matplotlib.text.Text at 0x7fad0ce06350>"
      ]
     },
     "execution_count": 28,
     "metadata": {},
     "output_type": "execute_result"
    },
    {
     "data": {
      "image/png": "[encoded data removed]",
      "text/plain": [
       "<matplotlib.figure.Figure at 0x7facd563a550>"
      ]
     },
     "metadata": {},
     "output_type": "display_data"
    }
   ],
   "source": [
    "plt.clf()\n",
    "plt.hist(Y, bins= 35)\n",
    "plt.title('Simulated Distribution of Y')\n",
    "plt.xlabel('Y value')\n",
    "plt.ylabel('Counts')"
   ]
  },
  {
   "cell_type": "markdown",
   "metadata": {},
   "source": [
    "Let's visualize how $u^*$ changes with sampling iterations. \n"
   ]
  },
  {
   "cell_type": "code",
   "execution_count": 29,
   "metadata": {
    "collapsed": false
   },
   "outputs": [
    {
     "name": "stdout",
     "output_type": "stream",
     "text": [
      "On iteration 50\tBeta_star is 0.006844\tU-star is 0.002858\tActive ks 6\tAlpha is 7.482053\n",
      "\n",
      "[0.30440915767300336, 0.26810223476911005, 0.1591202352032478, 0.22159695794676318, 0.032692482335740444, 0.007235299462911448]\n",
      "On iteration 100\tBeta_star is 0.017980\tU-star is 0.001259\tActive ks 5\tAlpha is 5.500004\n",
      "\n",
      "[0.2576777175011397, 0.2641170021297535, 0.3759452403304005, 0.036392521997813995, 0.04788706708533892]\n",
      "On iteration 150\tBeta_star is 0.000973\tU-star is 0.000399\tActive ks 6\tAlpha is 11.631646\n",
      "\n",
      "[0.3688044751435461, 0.09759729925408754, 0.35121790790574386, 0.10767111057807105, 0.07074615265218341, 0.002989910652621198]\n",
      "On iteration 200\tBeta_star is 0.029609\tU-star is 0.003971\tActive ks 3\tAlpha is 7.245786\n",
      "\n",
      "[0.3899052830609952, 0.23935076905212793, 0.34113536772244474]\n",
      "On iteration 250\tBeta_star is 0.001636\tU-star is 0.010885\tActive ks 3\tAlpha is 9.440252\n",
      "\n",
      "[0.4009753501049698, 0.33054554406686004, 0.26684289423381247]\n",
      "On iteration 300\tBeta_star is 0.004825\tU-star is 0.002418\tActive ks 5\tAlpha is 9.697046\n",
      "\n",
      "[0.3540750955828241, 0.3021252044679792, 0.2947004864527574, 0.02298720431102319, 0.021287359904244817]\n",
      "On iteration 350\tBeta_star is 0.001389\tU-star is 0.002778\tActive ks 4\tAlpha is 10.247352\n",
      "\n",
      "[0.25579820635629313, 0.3963030339922615, 0.03357526915355935, 0.3129343336620477]\n",
      "On iteration 400\tBeta_star is 0.006144\tU-star is 0.001266\tActive ks 5\tAlpha is 7.775060\n",
      "\n",
      "[0.3449869077794812, 0.28945173012601044, 0.33135542696039877, 0.02253831143064037, 0.00552360201898166]\n",
      "On iteration 450\tBeta_star is 0.014715\tU-star is 0.000370\tActive ks 5\tAlpha is 4.162112\n",
      "\n",
      "[0.35911752934711105, 0.3280962952127025, 0.23377948636702392, 0.06286280627113515, 0.0014288171934158478]\n",
      "On iteration 500\tBeta_star is 0.004668\tU-star is 0.001255\tActive ks 4\tAlpha is 4.009788\n",
      "\n",
      "[0.2553628814741656, 0.17707856820665546, 0.5183119520973366, 0.044579085438335324]\n",
      "On iteration 550\tBeta_star is 0.000448\tU-star is 0.002971\tActive ks 7\tAlpha is 13.783950\n",
      "\n",
      "[0.2708165402315291, 0.3331612466931175, 0.15170283399207543, 0.12817479841051724, 0.005784313044717779, 0.09840430244454855, 0.011508383767733731]\n",
      "On iteration 600\tBeta_star is 0.003298\tU-star is 0.000114\tActive ks 4\tAlpha is 5.183237\n",
      "\n",
      "[0.47047103384605055, 0.24401626726261272, 0.28038248310912056, 0.0018324156758792003]\n",
      "On iteration 650\tBeta_star is 0.000133\tU-star is 0.001376\tActive ks 5\tAlpha is 13.926565\n",
      "\n",
      "[0.25368901576489733, 0.2062088063660434, 0.4058315241874087, 0.12013591099569655, 0.014001262355395696]\n",
      "On iteration 700\tBeta_star is 0.025077\tU-star is 0.000791\tActive ks 5\tAlpha is 4.753536\n",
      "\n",
      "[0.26083662547401093, 0.24531976226215102, 0.10999610248771946, 0.2872890794607673, 0.07148155514732174]\n",
      "On iteration 750\tBeta_star is 0.011215\tU-star is 0.002378\tActive ks 5\tAlpha is 10.960169\n",
      "\n",
      "[0.2033290841581502, 0.3488568768800196, 0.1975512172227751, 0.19421624576174928, 0.04483172562797935]\n",
      "On iteration 800\tBeta_star is 0.036489\tU-star is 0.000726\tActive ks 4\tAlpha is 3.588949\n",
      "\n",
      "[0.24661858846919227, 0.22123201559527864, 0.2192407476463602, 0.27641947947557644]\n",
      "On iteration 850\tBeta_star is 0.036854\tU-star is 0.005567\tActive ks 4\tAlpha is 2.410306\n",
      "\n",
      "[0.35023895829055823, 0.27779501102017684, 0.2786842829130675, 0.05642733033996717]\n",
      "On iteration 900\tBeta_star is 0.020855\tU-star is 0.009423\tActive ks 4\tAlpha is 2.647841\n",
      "\n",
      "[0.32183062573920257, 0.2907424738897199, 0.017107765506145258, 0.34946449551199177]\n",
      "On iteration 950\tBeta_star is 0.003201\tU-star is 0.002036\tActive ks 7\tAlpha is 8.339247\n",
      "\n",
      "[0.2685506126892192, 0.20228447638544983, 0.22681796567554272, 0.14566172994124765, 0.11013653631130543, 0.03418445631492417, 0.009163531401883328]\n",
      "On iteration 1000\tBeta_star is 0.002741\tU-star is 0.010385\tActive ks 5\tAlpha is 5.105249\n",
      "\n",
      "[0.35974033946913003, 0.213230678676907, 0.23593076888070774, 0.14139381124059716, 0.04696335069193323]\n",
      "On iteration 1050\tBeta_star is 0.004075\tU-star is 0.000654\tActive ks 9\tAlpha is 12.556929\n",
      "\n",
      "[0.34150489346097007, 0.1848478505634187, 0.3130264121873664, 0.026541759450412684, 0.05214786308831337, 0.015454317005742664, 0.04991861790414394, 0.001635670342346209, 0.010847928771532966]\n",
      "On iteration 1100\tBeta_star is 0.015232\tU-star is 0.002579\tActive ks 6\tAlpha is 13.878671\n",
      "\n",
      "[0.3660960884282127, 0.1577952956919541, 0.06878268122321726, 0.25273903454156726, 0.1275937794843309, 0.011761384187647836]\n",
      "On iteration 1150\tBeta_star is 0.026436\tU-star is 0.001693\tActive ks 4\tAlpha is 7.711521\n",
      "\n",
      "[0.35261528811976556, 0.3529629643647559, 0.14105130465450666, 0.1269342218568666]\n",
      "On iteration 1200\tBeta_star is 0.027389\tU-star is 0.004966\tActive ks 6\tAlpha is 1.668542\n",
      "\n",
      "[0.29475619038253553, 0.1923550001787515, 0.2682785313030778, 0.07389231075676544, 0.07596547302057743, 0.06736328723863998]\n",
      "On iteration 1250\tBeta_star is 0.024632\tU-star is 0.003063\tActive ks 5\tAlpha is 11.813455\n",
      "\n",
      "[0.32194545208897873, 0.19419862470066976, 0.25106870935447595, 0.14667023557489067, 0.06148459410883087]\n",
      "On iteration 1300\tBeta_star is 0.006618\tU-star is 0.000620\tActive ks 6\tAlpha is 9.625519\n",
      "\n",
      "[0.40146096899557265, 0.24521841874123518, 0.20922367383427876, 0.09212521809677006, 0.035087795762319754, 0.010265582837348663]\n",
      "On iteration 1350\tBeta_star is 0.002226\tU-star is 0.002431\tActive ks 5\tAlpha is 7.253050\n",
      "\n",
      "[0.2982006347951533, 0.3761069742859812, 0.3026408217640845, 0.009361583613426124, 0.01146420869420432]\n",
      "On iteration 1400\tBeta_star is 0.008483\tU-star is 0.000531\tActive ks 6\tAlpha is 3.262113\n",
      "\n",
      "[0.2171650821053912, 0.25065813701482864, 0.3420182356387795, 0.0590963943177443, 0.009948086764080852, 0.11263075098118676]\n",
      "On iteration 1450\tBeta_star is 0.051401\tU-star is 0.005428\tActive ks 6\tAlpha is 7.002193\n",
      "\n",
      "[0.3159805670382092, 0.31525175493338675, 0.26921166784821793, 0.005570505053117279, 0.022523353324181285, 0.020060671662423465]\n",
      "On iteration 1500\tBeta_star is 0.002630\tU-star is 0.004967\tActive ks 6\tAlpha is 5.322939\n",
      "\n",
      "[0.30071551341534264, 0.06321804963225966, 0.49994885278005124, 0.051139252201461476, 0.043187507909782735, 0.03916041634443022]\n",
      "On iteration 1550\tBeta_star is 0.003035\tU-star is 0.000811\tActive ks 5\tAlpha is 4.521518\n",
      "\n",
      "[0.19410488778916615, 0.42307462902172244, 0.34293015214429395, 0.02369450489998941, 0.013160716350435434]\n",
      "On iteration 1600\tBeta_star is 0.017603\tU-star is 0.000551\tActive ks 5\tAlpha is 13.592847\n",
      "\n",
      "[0.42660035622160725, 0.23544143770575882, 0.251415668265303, 0.00923194575197224, 0.05970716773277975]\n",
      "On iteration 1650\tBeta_star is 0.008131\tU-star is 0.003700\tActive ks 6\tAlpha is 11.422384\n",
      "\n",
      "[0.3724314659808071, 0.21041273060844337, 0.24819714615901897, 0.02351439230684436, 0.1216829440417245, 0.01563067796131692]\n",
      "On iteration 1700\tBeta_star is 0.000934\tU-star is 0.005539\tActive ks 6\tAlpha is 14.507274\n",
      "\n",
      "[0.3009826293041769, 0.24511883473926874, 0.1255388365070411, 0.2028757386954364, 0.11879354898326332, 0.005755916545198215]\n",
      "On iteration 1750\tBeta_star is 0.004191\tU-star is 0.002608\tActive ks 4\tAlpha is 5.431208\n",
      "\n",
      "[0.32927333582181434, 0.2932209365821955, 0.3528836310985364, 0.02043069567929643]\n",
      "On iteration 1800\tBeta_star is 0.022990\tU-star is 0.000188\tActive ks 9\tAlpha is 9.025735\n",
      "\n",
      "[0.31020546391446796, 0.3198867317077681, 0.15021674777352417, 0.012936877667472771, 0.05936715425391414, 0.080429956292429, 0.03384479542044376, 0.0055374072418090375, 0.0045853600329195205]\n",
      "On iteration 1850\tBeta_star is 0.005472\tU-star is 0.000153\tActive ks 5\tAlpha is 6.623020\n",
      "\n",
      "[0.41612632404818073, 0.23241215466481313, 0.29516971238623013, 0.0384828922579564, 0.012337238893917786]\n",
      "On iteration 1900\tBeta_star is 0.006660\tU-star is 0.000870\tActive ks 5\tAlpha is 3.283117\n",
      "\n",
      "[0.35785958938972257, 0.2991461143579683, 0.30526854927792696, 0.02145933989080655, 0.009606134292200651]\n",
      "On iteration 1950\tBeta_star is 0.000592\tU-star is 0.004104\tActive ks 5\tAlpha is 5.998086\n",
      "\n",
      "[0.3937714207327164, 0.3190568550115961, 0.24061100037431954, 0.007395070354053859, 0.03857321240245809]\n",
      "On iteration 2000\tBeta_star is 0.018606\tU-star is 0.001139\tActive ks 4\tAlpha is 3.994354\n",
      "\n",
      "[0.3130785650435085, 0.28431570223079705, 0.3287119964006036, 0.055287426267687956]\n",
      "On iteration 2050\tBeta_star is 0.004351\tU-star is 0.000351\tActive ks 4\tAlpha is 9.125732\n",
      "\n",
      "[0.4944664404533392, 0.24291422704211724, 0.256561225179462, 0.0017068761410930632]\n",
      "On iteration 2100\tBeta_star is 0.008765\tU-star is 0.004402\tActive ks 4\tAlpha is 3.997662\n",
      "\n",
      "[0.380997394949557, 0.247634145055481, 0.3415241248546166, 0.02107919704992022]\n",
      "On iteration 2150\tBeta_star is 0.047929\tU-star is 0.004311\tActive ks 3\tAlpha is 2.626486\n",
      "\n",
      "[0.28548533941996473, 0.28507315283214324, 0.38151252715372735]\n",
      "On iteration 2200\tBeta_star is 0.008684\tU-star is 0.010695\tActive ks 5\tAlpha is 5.585937\n",
      "\n",
      "[0.4037967379031034, 0.0365975608617466, 0.18556907356553673, 0.25274631745993054, 0.11260673709169165]\n",
      "On iteration 2250\tBeta_star is 0.000938\tU-star is 0.007258\tActive ks 4\tAlpha is 5.789562\n",
      "\n",
      "[0.2900003007424223, 0.07913506630594803, 0.16134988733495678, 0.46857691359925424]\n",
      "On iteration 2300\tBeta_star is 0.031904\tU-star is 0.021248\tActive ks 4\tAlpha is 2.571746\n",
      "\n",
      "[0.3981262883517606, 0.2956221358478707, 0.16892352903464544, 0.10542426305653865]\n",
      "On iteration 2350\tBeta_star is 0.003901\tU-star is 0.001890\tActive ks 5\tAlpha is 2.689778\n",
      "\n",
      "[0.3401614952909797, 0.3283664459496484, 0.2347621409170477, 0.07825075784799768, 0.0145581629972598]\n",
      "On iteration 2400\tBeta_star is 0.012449\tU-star is 0.001517\tActive ks 4\tAlpha is 7.365170\n",
      "\n",
      "[0.43195004961935346, 0.20783949586738185, 0.3425856373039688, 0.005176105868875702]\n",
      "On iteration 2450\tBeta_star is 0.010678\tU-star is 0.000327\tActive ks 5\tAlpha is 10.245623\n",
      "\n",
      "[0.3011015233586456, 0.29667251279548135, 0.3103287676008146, 0.027484605872425065, 0.05373434273913765]\n"
     ]
    }
   ],
   "source": [
    "epsilon = 0.5\n",
    "s = 0.1\n",
    "s_inv = 1/s\n",
    "s_sqrt = np.sqrt(s_inv)\n",
    "#s_sqrt = s_inv\n",
    "a = 0.1\n",
    "b = 0.1 \n",
    "c = 1\n",
    "nu = np.random.beta(c+1, len(Y))\n",
    "\n",
    "#cycle 1\n",
    "#initalize first weights\n",
    "w = []\n",
    "w.append(np.random.beta(1, c))\n",
    "\n",
    "v = []\n",
    "v.append(w[0])\n",
    "#initalize first mu\n",
    "mus = []\n",
    "mus.append(np.random.normal(0, s_sqrt))\n",
    "\n",
    "#initalize first lambda\n",
    "lambdas = []\n",
    "lambdas.append(np.random.gamma(epsilon,epsilon))\n",
    "stds = []\n",
    "stds.append(lambda_to_std(lambdas[0]))\n",
    "z = np.zeros(len(Y)) #cluster assignments\n",
    "u = np.zeros(len(Y))\n",
    "active_ks = []\n",
    "total_ks = []\n",
    "total_cs = []\n",
    "total_ustar = []\n",
    "for cur_iter in range(2500):\n",
    "    #print \"Starting iter %i\"%(cur_iter)\n",
    "    u = np.zeros(len(Y))\n",
    "    #grab u \n",
    "    for idx, val in enumerate(Y):\n",
    "        cluster_label = int(z[idx])\n",
    "        u[idx] = np.random.uniform(0, w[cluster_label])\n",
    "    \n",
    "    #min u \n",
    "    u_star = np.min(u)\n",
    "    total_ustar.append(u_star)\n",
    "    \n",
    "    #find k_star and initalize components until we have enough\n",
    "    beta_star = 1 - np.sum(w)\n",
    "    if cur_iter > 1 and cur_iter % 50 == 0:\n",
    "        print \"On iteration %i\\tBeta_star is %0.06f\\tU-star is %0.06f\\tActive ks %i\\tAlpha is %0.06f\\n\"%(cur_iter, beta_star, u_star, active_ks[-1], total_cs[-1])\n",
    "        print w\n",
    "    while (beta_star >= u_star):\n",
    "        _vk = np.random.beta(1, c)\n",
    "        beta_k = _vk * beta_star\n",
    "        \n",
    "        #append beta_k to the weights\n",
    "        w.append(beta_k)\n",
    "            \n",
    "        #append _vk to v\n",
    "        v.append(_vk)\n",
    "        \n",
    "        #append new mu to mus \n",
    "        mus.append(np.random.normal(0, s_sqrt))\n",
    "        \n",
    "        #append new lambda to lambda\n",
    "        new_lambd = np.random.gamma(epsilon, 1/epsilon)\n",
    "        lambdas.append(new_lambd)\n",
    "\n",
    "        \n",
    "        #finally update beta_star\n",
    "        beta_star = beta_star*(1 -_vk)\n",
    "    \n",
    "    assert len(w) == len(mus)\n",
    "    assert len(w) == len(lambdas)\n",
    "    \n",
    "    #now we get the cluster assignments z for each observation\n",
    "    for y_idx , y_val in enumerate(Y):\n",
    "        z_probs = np.zeros(len(w))\n",
    "        for cluster_idx, mu in enumerate(mus):\n",
    "            if w[cluster_idx] > u[y_idx]:\n",
    "                z_probs[cluster_idx] = norm.pdf(y_val, loc = mu, scale = lambda_to_std(lambdas[cluster_idx]))\n",
    "            else:\n",
    "                z_probs[cluster_idx] = 0\n",
    "        #sample cluster assignments\n",
    "        norm_z_probs = z_probs / np.sum(z_probs)\n",
    "        z_sampler = stats.rv_discrete(name = \"z_sampler\", values = (np.arange(len(z_probs)), norm_z_probs))\n",
    "        z_assignment = z_sampler.rvs()\n",
    "        z[y_idx] = z_assignment\n",
    "        #print \"%i\\t%0.03f\\t%0.03f\\t%0.03f\\t%i\"%(y_idx, y_val, mu_)\n",
    "    \n",
    "    z_ints = [int(x) for x in z] #make z ints for easier use in future \n",
    "    \n",
    "    #perform necessary updates for means and lambdas for each cluster \n",
    "    new_mus = []\n",
    "    new_lambdas = []\n",
    "    new_z = np.zeros(len(Y))\n",
    "    active_cluster = 0\n",
    "    count_dict = {}\n",
    "    \n",
    "    for cluster_idx in range(len(w)):\n",
    "        #update means\n",
    "        cur_lambda = lambdas[cluster_idx]    \n",
    "        eta = 0\n",
    "        m = 0\n",
    "        y_k = []\n",
    "        for y_idx, z_val in enumerate(z_ints):\n",
    "            if z_val == cluster_idx:\n",
    "                m += 1\n",
    "                eta += Y[y_idx]\n",
    "                y_k.append(Y[y_idx])\n",
    "                new_z[y_idx] = active_cluster\n",
    "        \n",
    "        if m == 0:\n",
    "            continue\n",
    "        else:\n",
    "            count_dict[active_cluster] = m\n",
    "            active_cluster += 1        \n",
    "            _mean = (eta * cur_lambda)/(m * cur_lambda + s)\n",
    "            _variance = 1 / (m * cur_lambda + s)\n",
    "            new_mu = np.random.normal(_mean, np.sqrt(_variance))\n",
    "            #mus[cluster_idx] = new_mu\n",
    "            new_mus.append(new_mu)\n",
    "            #update lambda\n",
    "            d = 0\n",
    "            for val in y_k:\n",
    "                d += (val - new_mu) ** 2\n",
    "            \n",
    "            _alpha = epsilon + m/2\n",
    "            _beta = epsilon + d/2\n",
    "            new_lambda = np.random.gamma(_alpha, 1/_beta)\n",
    "            #lambdas[cluster_idx] = new_lambda\n",
    "            #print \"added at %i\"%(cluster_idx)\n",
    "            new_lambdas.append(new_lambda)\n",
    "            stds.append(lambda_to_std(new_lambda))\n",
    "            \n",
    "    #update the stick breaking lengths v_k \n",
    "    k = active_cluster \n",
    "    vks = []\n",
    "    #print count_dict\n",
    "    for cluster_idx in range(k):\n",
    "        n_k = count_dict[cluster_idx]\n",
    "        n_j = 0\n",
    "        #print range(cluster_idx + 1, k )\n",
    "        for i in range(cluster_idx+1, k):\n",
    "            n_j += count_dict[i]\n",
    "        vks.append(np.random.beta(1 + n_k, c + n_j))\n",
    "        \n",
    "    #update weights w_k\n",
    "    new_w = []\n",
    "    old_vks = []\n",
    "    for cluster_idx in range(k):\n",
    "        if cluster_idx == 0:\n",
    "            new_w.append(vks[cluster_idx])    \n",
    "            old_vks.append(1-vks[cluster_idx])\n",
    "        else:\n",
    "            #print cluster_idx\n",
    "            vj = 1 \n",
    "            for i in range(cluster_idx):\n",
    "                #print i\n",
    "                #print old_vks\n",
    "                vj *= old_vks[i]\n",
    "            new_w.append(vks[cluster_idx] * vj)\n",
    "            old_vks.append(1-vks[cluster_idx])   \n",
    "    \n",
    "    #lastly, update c (alpha) and nu (Escobar & West 1995, section 6)\n",
    "    #update c\n",
    "    new_nu = np.random.beta(c + 1, len(Y))    \n",
    "    \n",
    "    pi_n_ratio = (a + k - 1) / (len(Y) * (b - np.log10(new_nu)))\n",
    "    pi_1 = pi_n_ratio / (1 + pi_n_ratio)\n",
    "    pi_2 = 1 - pi_1\n",
    "    #new_c = pi_1 * np.random.gamma(a+k, b - np.log10(new_nu)) + pi_2 * np.random.gamma(a+k-1, b-np.log10(new_nu))\n",
    "    new_c = pi_1 * np.random.gamma(a+k, b - np.log10(new_nu)) + pi_2 * np.random.gamma(a+k-1, b-np.log10(new_nu))\n",
    "    #new_c = np.random.gamma(a+k, b - np.log10(new_nu))\n",
    "    #new_c = ((c**k )* gamma(c) * np.random.gamma(0.1,10)) / (gamma(c + len(Y)))      \n",
    "    \n",
    "    #store results\n",
    "    active_ks.append(k)\n",
    "    total_ks.append(len(w))\n",
    "    total_cs.append(new_c)\n",
    "    \n",
    "    #end of gibbs cycle, update all the variables for next round\n",
    "    mus = new_mus\n",
    "    lambdas = new_lambdas\n",
    "    z = new_z \n",
    "    c = 1 #fix c\n",
    "    nu = new_nu\n",
    "    v = vks \n",
    "    w = new_w\n"
   ]
  },
  {
   "cell_type": "code",
   "execution_count": 30,
   "metadata": {
    "collapsed": false
   },
   "outputs": [
    {
     "data": {
      "image/png": "[encoded data removed]",
      "text/plain": [
       "<matplotlib.figure.Figure at 0x7facd567ef10>"
      ]
     },
     "metadata": {},
     "output_type": "display_data"
    }
   ],
   "source": [
    "plt.plot(np.arange(len(active_ks)), movingaverage(total_ustar, 400), 'r-', label='Moving average realized k')\n",
    "plt.xlabel('Iterations')\n",
    "plt.ylabel('U_star')\n",
    "plt.xlim((0,2300))\n",
    "plt.legend(prop={'size':8})\n",
    "plt.title('Moving average of u star vs. Gibbs Iterations (fixed c)')\n",
    "plt.savefig('var_8.png', dpi=500)\n"
   ]
  },
  {
   "cell_type": "code",
   "execution_count": null,
   "metadata": {
    "collapsed": true
   },
   "outputs": [],
   "source": []
  }
 ],
 "metadata": {
  "kernelspec": {
   "display_name": "Python 2",
   "language": "python",
   "name": "python2"
  },
  "language_info": {
   "codemirror_mode": {
    "name": "ipython",
    "version": 2
   },
   "file_extension": ".py",
   "mimetype": "text/x-python",
   "name": "python",
   "nbconvert_exporter": "python",
   "pygments_lexer": "ipython2",
   "version": "2.7.6"
  }
 },
 "nbformat": 4,
 "nbformat_minor": 0
}
